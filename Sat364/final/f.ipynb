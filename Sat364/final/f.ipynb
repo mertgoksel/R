{
  "cells": [
    {
      "cell_type": "raw",
      "metadata": {},
      "source": [
        "---\n",
        "title: Untitled\n",
        "format: pdf\n",
        "editor: visual\n",
        "---"
      ],
      "id": "a75428cb"
    },
    {
      "cell_type": "markdown",
      "metadata": {},
      "source": [
        "## Quarto\n",
        "\n",
        "Quarto enables you to weave together content and executable code into a finished document. To learn more about Quarto see <https://quarto.org>.\n",
        "\n",
        "## Running Code\n",
        "\n",
        "When you click the **Render** button a document will be generated that includes both content and the output of embedded code. You can embed code like this:\n",
        "\n",
        "```{R}\n",
        "1 + 1\n",
        "```\n",
        "\n",
        "You can add options to executable code like this\n",
        "\n",
        "```{R}\n",
        "#| echo: false\n",
        "2 * 2\n",
        "```\n",
        "\n",
        "The `echo: false` option disables the printing of code (only output is displayed).\n",
        "\n",
        "```{R}\n",
        "\n",
        "```"
      ],
      "id": "95aaeb0e"
    }
  ],
  "metadata": {
    "kernelspec": {
      "name": "ir",
      "language": "R",
      "display_name": "R"
    }
  },
  "nbformat": 4,
  "nbformat_minor": 5
}