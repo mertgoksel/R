{
 "cells": [
  {
   "cell_type": "markdown",
   "id": "5b901bfe-014a-4e40-aa5b-a81ecd1c11e3",
   "metadata": {},
   "source": [
    "# Made By: Mert Göksel"
   ]
  },
  {
   "cell_type": "code",
   "execution_count": null,
   "id": "8f7874b2-1c0b-42d9-9774-e92c357ac991",
   "metadata": {
    "vscode": {
     "languageId": "r"
    }
   },
   "outputs": [],
   "source": [
    "library(openxlsx)\n",
    "suppressPackageStartupMessages(library(tidyverse))\n",
    "suppressPackageStartupMessages(library(caret))\n",
    "suppressPackageStartupMessages(library(lmtest))\n",
    "suppressPackageStartupMessages(library(car))\n",
    "suppressPackageStartupMessages(library(corrplot))\n",
    "suppressPackageStartupMessages(library(leaps))\n",
    "suppressPackageStartupMessages(library(stats))\n",
    "suppressPackageStartupMessages(library(olsrr))\n",
    "options(scipen=999999)"
   ]
  },
  {
   "cell_type": "markdown",
   "id": "1d775574-ddaf-4add-b754-d1dda8d6ba7d",
   "metadata": {},
   "source": [
    "# Question 1"
   ]
  },
  {
   "cell_type": "code",
   "execution_count": null,
   "id": "61392cf0-5f77-49e7-890f-e568fa34364e",
   "metadata": {
    "vscode": {
     "languageId": "r"
    }
   },
   "outputs": [
    {
     "data": {
      "text/html": [
       "<table class=\"dataframe\">\n",
       "<caption>A data.frame: 6 × 8</caption>\n",
       "<thead>\n",
       "\t<tr><th></th><th scope=col>Pclass</th><th scope=col>Sex</th><th scope=col>Age</th><th scope=col>SibSp</th><th scope=col>Parch</th><th scope=col>Fare</th><th scope=col>Embarked</th><th scope=col>Survived</th></tr>\n",
       "\t<tr><th></th><th scope=col>&lt;dbl&gt;</th><th scope=col>&lt;chr&gt;</th><th scope=col>&lt;dbl&gt;</th><th scope=col>&lt;dbl&gt;</th><th scope=col>&lt;dbl&gt;</th><th scope=col>&lt;dbl&gt;</th><th scope=col>&lt;chr&gt;</th><th scope=col>&lt;dbl&gt;</th></tr>\n",
       "</thead>\n",
       "<tbody>\n",
       "\t<tr><th scope=row>1</th><td>3</td><td>male  </td><td>22</td><td>1</td><td>0</td><td> 7.2500</td><td>S</td><td>0</td></tr>\n",
       "\t<tr><th scope=row>2</th><td>1</td><td>female</td><td>38</td><td>1</td><td>0</td><td>71.2833</td><td>C</td><td>1</td></tr>\n",
       "\t<tr><th scope=row>3</th><td>3</td><td>female</td><td>26</td><td>0</td><td>0</td><td> 7.9250</td><td>S</td><td>1</td></tr>\n",
       "\t<tr><th scope=row>4</th><td>1</td><td>female</td><td>35</td><td>1</td><td>0</td><td>53.1000</td><td>S</td><td>1</td></tr>\n",
       "\t<tr><th scope=row>5</th><td>3</td><td>male  </td><td>35</td><td>0</td><td>0</td><td> 8.0500</td><td>S</td><td>0</td></tr>\n",
       "\t<tr><th scope=row>6</th><td>3</td><td>male  </td><td>NA</td><td>0</td><td>0</td><td> 8.4583</td><td>Q</td><td>0</td></tr>\n",
       "</tbody>\n",
       "</table>\n"
      ],
      "text/latex": [
       "A data.frame: 6 × 8\n",
       "\\begin{tabular}{r|llllllll}\n",
       "  & Pclass & Sex & Age & SibSp & Parch & Fare & Embarked & Survived\\\\\n",
       "  & <dbl> & <chr> & <dbl> & <dbl> & <dbl> & <dbl> & <chr> & <dbl>\\\\\n",
       "\\hline\n",
       "\t1 & 3 & male   & 22 & 1 & 0 &  7.2500 & S & 0\\\\\n",
       "\t2 & 1 & female & 38 & 1 & 0 & 71.2833 & C & 1\\\\\n",
       "\t3 & 3 & female & 26 & 0 & 0 &  7.9250 & S & 1\\\\\n",
       "\t4 & 1 & female & 35 & 1 & 0 & 53.1000 & S & 1\\\\\n",
       "\t5 & 3 & male   & 35 & 0 & 0 &  8.0500 & S & 0\\\\\n",
       "\t6 & 3 & male   & NA & 0 & 0 &  8.4583 & Q & 0\\\\\n",
       "\\end{tabular}\n"
      ],
      "text/markdown": [
       "\n",
       "A data.frame: 6 × 8\n",
       "\n",
       "| <!--/--> | Pclass &lt;dbl&gt; | Sex &lt;chr&gt; | Age &lt;dbl&gt; | SibSp &lt;dbl&gt; | Parch &lt;dbl&gt; | Fare &lt;dbl&gt; | Embarked &lt;chr&gt; | Survived &lt;dbl&gt; |\n",
       "|---|---|---|---|---|---|---|---|---|\n",
       "| 1 | 3 | male   | 22 | 1 | 0 |  7.2500 | S | 0 |\n",
       "| 2 | 1 | female | 38 | 1 | 0 | 71.2833 | C | 1 |\n",
       "| 3 | 3 | female | 26 | 0 | 0 |  7.9250 | S | 1 |\n",
       "| 4 | 1 | female | 35 | 1 | 0 | 53.1000 | S | 1 |\n",
       "| 5 | 3 | male   | 35 | 0 | 0 |  8.0500 | S | 0 |\n",
       "| 6 | 3 | male   | NA | 0 | 0 |  8.4583 | Q | 0 |\n",
       "\n"
      ],
      "text/plain": [
       "  Pclass Sex    Age SibSp Parch Fare    Embarked Survived\n",
       "1 3      male   22  1     0      7.2500 S        0       \n",
       "2 1      female 38  1     0     71.2833 C        1       \n",
       "3 3      female 26  0     0      7.9250 S        1       \n",
       "4 1      female 35  1     0     53.1000 S        1       \n",
       "5 3      male   35  0     0      8.0500 S        0       \n",
       "6 3      male   NA  0     0      8.4583 Q        0       "
      ]
     },
     "metadata": {},
     "output_type": "display_data"
    }
   ],
   "source": [
    "titanic <- openxlsx::read.xlsx(\"./titanic.xlsx\")\n",
    "head(titanic)"
   ]
  },
  {
   "cell_type": "code",
   "execution_count": null,
   "id": "4cf9a5cb-f8bf-4e5f-8222-15d83fd93d10",
   "metadata": {},
   "outputs": [],
   "source": [
    "titanic <- drop_na(titanic)"
   ]
  },
  {
   "cell_type": "code",
   "execution_count": null,
   "id": "58765347-c701-4e0a-95be-68412b770d7d",
   "metadata": {
    "vscode": {
     "languageId": "r"
    }
   },
   "outputs": [],
   "source": [
    "titanic_train_indexes <- sample(1:nrow(titanic), \n",
    "                        floor(nrow(titanic)*8/10)) #80% is train\n",
    "titanic_train <- titanic[titanic_train_indexes,]\n",
    "titanic_test <- titanic[-titanic_train_indexes,]"
   ]
  },
  {
   "cell_type": "markdown",
   "id": "43c2b994-450f-4bc3-b8b9-55e38cca457a",
   "metadata": {},
   "source": [
    "## Part A"
   ]
  },
  {
   "cell_type": "code",
   "execution_count": null,
   "id": "f9e513ff-ae72-47c6-bcb7-28a819a340d6",
   "metadata": {
    "vscode": {
     "languageId": "r"
    }
   },
   "outputs": [],
   "source": [
    "model.titanic <- glm(Survived~., data=titanic_train, family=\"binomial\")"
   ]
  },
  {
   "cell_type": "code",
   "execution_count": null,
   "id": "7cd69fd9-ad10-4b2c-8cf1-eae4afead370",
   "metadata": {
    "vscode": {
     "languageId": "r"
    }
   },
   "outputs": [
    {
     "data": {
      "text/plain": [
       "\n",
       "Call:\n",
       "glm(formula = Survived ~ ., family = \"binomial\", data = titanic_train)\n",
       "\n",
       "Deviance Residuals: \n",
       "    Min       1Q   Median       3Q      Max  \n",
       "-2.7721  -0.6504  -0.3846   0.6086   2.4730  \n",
       "\n",
       "Coefficients:\n",
       "             Estimate Std. Error z value             Pr(>|z|)    \n",
       "(Intercept)  5.673589   0.719559   7.885  0.00000000000000315 ***\n",
       "Pclass      -1.156675   0.185452  -6.237  0.00000000044585241 ***\n",
       "Sexmale     -2.641776   0.254601 -10.376 < 0.0000000000000002 ***\n",
       "Age         -0.045404   0.009402  -4.829  0.00000137083254779 ***\n",
       "SibSp       -0.406540   0.153465  -2.649              0.00807 ** \n",
       "Parch       -0.056003   0.133190  -0.420              0.67414    \n",
       "Fare         0.002710   0.002991   0.906              0.36487    \n",
       "EmbarkedQ   -1.275800   0.755194  -1.689              0.09115 .  \n",
       "EmbarkedS   -0.497597   0.293659  -1.694              0.09018 .  \n",
       "---\n",
       "Signif. codes:  0 '***' 0.001 '**' 0.01 '*' 0.05 '.' 0.1 ' ' 1\n",
       "\n",
       "(Dispersion parameter for binomial family taken to be 1)\n",
       "\n",
       "    Null deviance: 764.57  on 568  degrees of freedom\n",
       "Residual deviance: 501.95  on 560  degrees of freedom\n",
       "AIC: 519.95\n",
       "\n",
       "Number of Fisher Scoring iterations: 5\n"
      ]
     },
     "metadata": {},
     "output_type": "display_data"
    }
   ],
   "source": [
    "summary(model.titanic)"
   ]
  },
  {
   "cell_type": "markdown",
   "id": "e8aead23-81de-4169-9b4f-79644ec9b245",
   "metadata": {},
   "source": [
    "From this model, our response function is;"
   ]
  },
  {
   "cell_type": "code",
   "execution_count": null,
   "id": "eec01c64-8528-4a36-96a1-f0c864ea0c4c",
   "metadata": {
    "vscode": {
     "languageId": "r"
    }
   },
   "outputs": [
    {
     "name": "stdout",
     "output_type": "stream",
     "text": [
      "logodds =\n",
      "(Intercept)*5.67358895483166+\n",
      "Pclass*-1.15667548042592+\n",
      "Sexmale*-2.64177601006429+\n",
      "Age*-0.0454041069105764+\n",
      "SibSp*-0.406539865581682+\n",
      "Parch*-0.0560025984992716+\n",
      "Fare*0.00271048568385791+\n",
      "EmbarkedQ*-1.2757998748757+\n",
      "EmbarkedS*-0.497597022492682\n"
     ]
    }
   ],
   "source": [
    "cat(\"logodds =\\n\")\n",
    "cat(paste(row.names(summary(model.titanic)$coefficients),\n",
    "          summary(model.titanic)$coefficients[,1], sep=\"*\"),sep=\"+\\n\")"
   ]
  },
  {
   "cell_type": "markdown",
   "id": "6f610a22-0d37-43f2-adf0-fdd20e6ca8c2",
   "metadata": {},
   "source": [
    "## Part B"
   ]
  },
  {
   "cell_type": "markdown",
   "id": "e719a3a2-29e7-4f4e-8260-5220f0fdd750",
   "metadata": {},
   "source": [
    "We have our parameters above, these are for the logodds. \n",
    "Meaning if above function is $BX$, then;\n",
    "\n",
    "$$\n",
    "\\begin{aligned}\n",
    "&logodds = BX \\\\\n",
    "&\\Rightarrow \\; ln(\\frac{\\pi(x)}{1-\\pi(x)}) = BX \\\\\n",
    "&\\Rightarrow \\; \\pi(x) = \\frac{e^{BX}}{1+e^{BX}} \\\\\n",
    "&\\Rightarrow \\; \\pi(x) = \\frac{1}{1+e^{-BX}}\n",
    "\\end{aligned}\n",
    "$$"
   ]
  },
  {
   "cell_type": "markdown",
   "id": "7f0bd737-a447-4ccd-a78e-6a896e92fbb7",
   "metadata": {},
   "source": [
    "From this formula we can interpret these coefficient as following:\n",
    "- When BX = logodds, unit of increase in any variable will increase/decrease the logodds by the respective coefficient. Meaning, the odds will be affected as much as $e^{B_k}$\n",
    "- On the other side, if we are looking at probability formula the change in the probability will be;\n",
    "$$\n",
    "\\begin{aligned}\n",
    "\\\\\n",
    "When\\;x_i &\\Rightarrow x_i+1 \\\\\n",
    "B_i * x_i &\\Rightarrow B_i * x_i+B_i \\\\\n",
    "\\pi(x) &\\Rightarrow \\frac{1}{1+e^{-(B_ix_i + B_i)}}\n",
    "\\end{aligned}\n",
    "$$\n",
    "\n",
    "These apply for each parameter."
   ]
  },
  {
   "cell_type": "markdown",
   "id": "22859191-33c6-4d99-b475-f302d3bacd70",
   "metadata": {},
   "source": [
    "## Part C"
   ]
  },
  {
   "cell_type": "code",
   "execution_count": null,
   "id": "a1ed0dce-6dc1-441c-9534-32202677b1d1",
   "metadata": {
    "vscode": {
     "languageId": "r"
    }
   },
   "outputs": [
    {
     "data": {
      "text/html": [
       "<strong>1:</strong> 0.693749000321801"
      ],
      "text/latex": [
       "\\textbf{1:} 0.693749000321801"
      ],
      "text/markdown": [
       "**1:** 0.693749000321801"
      ],
      "text/plain": [
       "       1 \n",
       "0.693749 "
      ]
     },
     "metadata": {},
     "output_type": "display_data"
    }
   ],
   "source": [
    "given <- data.frame(Pclass=3, Sex=\"female\", Age=35, SibSp=0, Parch=0, Fare=75, Embarked=\"C\")\n",
    "predict(model.titanic, given, type=\"response\")"
   ]
  },
  {
   "cell_type": "markdown",
   "id": "93997dc6-dfce-4619-90da-289821ce8822",
   "metadata": {},
   "source": [
    "## Part D"
   ]
  },
  {
   "cell_type": "markdown",
   "id": "33874d89-31ca-4483-89c5-b0c8b4479f8d",
   "metadata": {},
   "source": [
    "We will apply wald test to all parameters with size $\\alpha = 0.01$"
   ]
  },
  {
   "cell_type": "markdown",
   "id": "2b4a640a-37dc-4aaa-90ac-add3881909ab",
   "metadata": {},
   "source": [
    "$$\n",
    "Reject \\; H_0 \\Rightarrow |z^*| > z_{\\frac{1- \\alpha}{2}}\n",
    "$$"
   ]
  },
  {
   "cell_type": "code",
   "execution_count": null,
   "id": "a84fc481-74c7-4473-9799-0ed56e9fc849",
   "metadata": {
    "vscode": {
     "languageId": "r"
    }
   },
   "outputs": [
    {
     "data": {
      "text/html": [
       "2.32634787404084"
      ],
      "text/latex": [
       "2.32634787404084"
      ],
      "text/markdown": [
       "2.32634787404084"
      ],
      "text/plain": [
       "[1] 2.326348"
      ]
     },
     "metadata": {},
     "output_type": "display_data"
    }
   ],
   "source": [
    "qnorm(0.01, lower.tail = 0)"
   ]
  },
  {
   "cell_type": "code",
   "execution_count": null,
   "id": "12d99224-0d2a-45bb-b250-30dfa9f1af28",
   "metadata": {
    "vscode": {
     "languageId": "r"
    }
   },
   "outputs": [
    {
     "data": {
      "text/html": [
       "2.5758293035489"
      ],
      "text/latex": [
       "2.5758293035489"
      ],
      "text/markdown": [
       "2.5758293035489"
      ],
      "text/plain": [
       "[1] 2.575829"
      ]
     },
     "metadata": {},
     "output_type": "display_data"
    }
   ],
   "source": [
    "qnorm(0.01/2, lower.tail = 0)"
   ]
  },
  {
   "cell_type": "code",
   "execution_count": null,
   "id": "61de2cbb-d375-4be7-b283-bb502a32701d",
   "metadata": {
    "vscode": {
     "languageId": "r"
    }
   },
   "outputs": [
    {
     "data": {
      "text/html": [
       "<table class=\"dataframe\">\n",
       "<caption>A data.frame: 9 × 3</caption>\n",
       "<thead>\n",
       "\t<tr><th></th><th scope=col>z</th><th scope=col>z_star</th><th scope=col>reject</th></tr>\n",
       "\t<tr><th></th><th scope=col>&lt;dbl&gt;</th><th scope=col>&lt;dbl&gt;</th><th scope=col>&lt;dbl&gt;</th></tr>\n",
       "</thead>\n",
       "<tbody>\n",
       "\t<tr><th scope=row>(Intercept)</th><td>  7.8848195</td><td> 7.8848195</td><td>1</td></tr>\n",
       "\t<tr><th scope=row>Pclass</th><td> -6.2370665</td><td> 6.2370665</td><td>1</td></tr>\n",
       "\t<tr><th scope=row>Sexmale</th><td>-10.3761564</td><td>10.3761564</td><td>1</td></tr>\n",
       "\t<tr><th scope=row>Age</th><td> -4.8291992</td><td> 4.8291992</td><td>1</td></tr>\n",
       "\t<tr><th scope=row>SibSp</th><td> -2.6490705</td><td> 2.6490705</td><td>1</td></tr>\n",
       "\t<tr><th scope=row>Parch</th><td> -0.4204700</td><td> 0.4204700</td><td>0</td></tr>\n",
       "\t<tr><th scope=row>Fare</th><td>  0.9061304</td><td> 0.9061304</td><td>0</td></tr>\n",
       "\t<tr><th scope=row>EmbarkedQ</th><td> -1.6893662</td><td> 1.6893662</td><td>0</td></tr>\n",
       "\t<tr><th scope=row>EmbarkedS</th><td> -1.6944745</td><td> 1.6944745</td><td>0</td></tr>\n",
       "</tbody>\n",
       "</table>\n"
      ],
      "text/latex": [
       "A data.frame: 9 × 3\n",
       "\\begin{tabular}{r|lll}\n",
       "  & z & z\\_star & reject\\\\\n",
       "  & <dbl> & <dbl> & <dbl>\\\\\n",
       "\\hline\n",
       "\t(Intercept) &   7.8848195 &  7.8848195 & 1\\\\\n",
       "\tPclass &  -6.2370665 &  6.2370665 & 1\\\\\n",
       "\tSexmale & -10.3761564 & 10.3761564 & 1\\\\\n",
       "\tAge &  -4.8291992 &  4.8291992 & 1\\\\\n",
       "\tSibSp &  -2.6490705 &  2.6490705 & 1\\\\\n",
       "\tParch &  -0.4204700 &  0.4204700 & 0\\\\\n",
       "\tFare &   0.9061304 &  0.9061304 & 0\\\\\n",
       "\tEmbarkedQ &  -1.6893662 &  1.6893662 & 0\\\\\n",
       "\tEmbarkedS &  -1.6944745 &  1.6944745 & 0\\\\\n",
       "\\end{tabular}\n"
      ],
      "text/markdown": [
       "\n",
       "A data.frame: 9 × 3\n",
       "\n",
       "| <!--/--> | z &lt;dbl&gt; | z_star &lt;dbl&gt; | reject &lt;dbl&gt; |\n",
       "|---|---|---|---|\n",
       "| (Intercept) |   7.8848195 |  7.8848195 | 1 |\n",
       "| Pclass |  -6.2370665 |  6.2370665 | 1 |\n",
       "| Sexmale | -10.3761564 | 10.3761564 | 1 |\n",
       "| Age |  -4.8291992 |  4.8291992 | 1 |\n",
       "| SibSp |  -2.6490705 |  2.6490705 | 1 |\n",
       "| Parch |  -0.4204700 |  0.4204700 | 0 |\n",
       "| Fare |   0.9061304 |  0.9061304 | 0 |\n",
       "| EmbarkedQ |  -1.6893662 |  1.6893662 | 0 |\n",
       "| EmbarkedS |  -1.6944745 |  1.6944745 | 0 |\n",
       "\n"
      ],
      "text/plain": [
       "            z           z_star     reject\n",
       "(Intercept)   7.8848195  7.8848195 1     \n",
       "Pclass       -6.2370665  6.2370665 1     \n",
       "Sexmale     -10.3761564 10.3761564 1     \n",
       "Age          -4.8291992  4.8291992 1     \n",
       "SibSp        -2.6490705  2.6490705 1     \n",
       "Parch        -0.4204700  0.4204700 0     \n",
       "Fare          0.9061304  0.9061304 0     \n",
       "EmbarkedQ    -1.6893662  1.6893662 0     \n",
       "EmbarkedS    -1.6944745  1.6944745 0     "
      ]
     },
     "metadata": {},
     "output_type": "display_data"
    }
   ],
   "source": [
    "data.frame(z=summary(model.titanic)$coefficients[,3]) %>% \n",
    "    mutate(z_star = abs(z), reject = ifelse(z_star > qnorm(0.01/2, lower.tail = 0), 1, 0))"
   ]
  },
  {
   "cell_type": "markdown",
   "id": "ce2020d5-6a1a-410c-9701-bfa3513a53dc",
   "metadata": {},
   "source": [
    "Wald test tells us that __Parch, Fare and Embarked__ are insignificant variables and thus needs to be dropped"
   ]
  },
  {
   "cell_type": "markdown",
   "id": "f96aecf5-726b-4328-956a-fff37266dddf",
   "metadata": {},
   "source": [
    "## Part E"
   ]
  },
  {
   "cell_type": "markdown",
   "id": "ba663684-cdd1-4101-a9e0-44b9b0753a75",
   "metadata": {},
   "source": [
    "To test the overall significance of the model we have to use __Likelihood__ test"
   ]
  },
  {
   "cell_type": "code",
   "execution_count": null,
   "id": "23a6c7de-4fd2-4cf2-bc9c-ec88be3594cd",
   "metadata": {
    "vscode": {
     "languageId": "r"
    }
   },
   "outputs": [
    {
     "data": {
      "text/plain": [
       "\n",
       "Call:\n",
       "glm(formula = Survived ~ ., family = \"binomial\", data = titanic_train)\n",
       "\n",
       "Deviance Residuals: \n",
       "    Min       1Q   Median       3Q      Max  \n",
       "-2.7721  -0.6504  -0.3846   0.6086   2.4730  \n",
       "\n",
       "Coefficients:\n",
       "             Estimate Std. Error z value             Pr(>|z|)    \n",
       "(Intercept)  5.673589   0.719559   7.885  0.00000000000000315 ***\n",
       "Pclass      -1.156675   0.185452  -6.237  0.00000000044585241 ***\n",
       "Sexmale     -2.641776   0.254601 -10.376 < 0.0000000000000002 ***\n",
       "Age         -0.045404   0.009402  -4.829  0.00000137083254779 ***\n",
       "SibSp       -0.406540   0.153465  -2.649              0.00807 ** \n",
       "Parch       -0.056003   0.133190  -0.420              0.67414    \n",
       "Fare         0.002710   0.002991   0.906              0.36487    \n",
       "EmbarkedQ   -1.275800   0.755194  -1.689              0.09115 .  \n",
       "EmbarkedS   -0.497597   0.293659  -1.694              0.09018 .  \n",
       "---\n",
       "Signif. codes:  0 '***' 0.001 '**' 0.01 '*' 0.05 '.' 0.1 ' ' 1\n",
       "\n",
       "(Dispersion parameter for binomial family taken to be 1)\n",
       "\n",
       "    Null deviance: 764.57  on 568  degrees of freedom\n",
       "Residual deviance: 501.95  on 560  degrees of freedom\n",
       "AIC: 519.95\n",
       "\n",
       "Number of Fisher Scoring iterations: 5\n"
      ]
     },
     "metadata": {},
     "output_type": "display_data"
    }
   ],
   "source": [
    "summary(model.titanic)"
   ]
  },
  {
   "cell_type": "markdown",
   "id": "5c5bab6d",
   "metadata": {},
   "source": [
    "We know that likelihood of the model will be used as following to test the significance;\n",
    "\n",
    "$$\n",
    "LR \\sim \\chi^{2}_{0.95, 8} \\\\\n",
    "LR=2ln(\\frac{L(FM)}{L(RM)})\n",
    "$$\n"
   ]
  },
  {
   "cell_type": "code",
   "execution_count": null,
   "id": "6414dec3-9592-4613-ba63-e3a4b52b16c8",
   "metadata": {},
   "outputs": [],
   "source": [
    "model.titanic.reduced <- glm(Survived~1, data=titanic, family = 'binomial')"
   ]
  },
  {
   "cell_type": "code",
   "execution_count": null,
   "id": "365d0cc9-f085-44b3-9f48-45a5efc7b0d4",
   "metadata": {},
   "outputs": [
    {
     "data": {
      "text/plain": [
       "\n",
       "Call:\n",
       "glm(formula = Survived ~ 1, family = \"binomial\", data = titanic)\n",
       "\n",
       "Deviance Residuals: \n",
       "   Min      1Q  Median      3Q     Max  \n",
       "-1.018  -1.018  -1.018   1.345   1.345  \n",
       "\n",
       "Coefficients:\n",
       "            Estimate Std. Error z value    Pr(>|z|)    \n",
       "(Intercept) -0.38677    0.07636  -5.065 0.000000408 ***\n",
       "---\n",
       "Signif. codes:  0 '***' 0.001 '**' 0.01 '*' 0.05 '.' 0.1 ' ' 1\n",
       "\n",
       "(Dispersion parameter for binomial family taken to be 1)\n",
       "\n",
       "    Null deviance: 960.9  on 711  degrees of freedom\n",
       "Residual deviance: 960.9  on 711  degrees of freedom\n",
       "AIC: 962.9\n",
       "\n",
       "Number of Fisher Scoring iterations: 4\n"
      ]
     },
     "metadata": {},
     "output_type": "display_data"
    }
   ],
   "source": [
    "summary(model.titanic.reduced)"
   ]
  },
  {
   "cell_type": "code",
   "execution_count": null,
   "id": "12687171-9d58-416e-ba98-6a47e09d02e4",
   "metadata": {},
   "outputs": [],
   "source": [
    "lr <- 2*(logLik(model.titanic)[1] - logLik(model.titanic.reduced)[1])"
   ]
  },
  {
   "cell_type": "code",
   "execution_count": null,
   "id": "28c02e63-2749-486c-8393-e3841479419c",
   "metadata": {},
   "outputs": [
    {
     "data": {
      "text/html": [
       "458.95028796923"
      ],
      "text/latex": [
       "458.95028796923"
      ],
      "text/markdown": [
       "458.95028796923"
      ],
      "text/plain": [
       "[1] 458.9503"
      ]
     },
     "metadata": {},
     "output_type": "display_data"
    }
   ],
   "source": [
    "lr"
   ]
  },
  {
   "cell_type": "code",
   "execution_count": null,
   "id": "ba53723b-a83a-4d49-923e-ed7677cb3737",
   "metadata": {},
   "outputs": [
    {
     "data": {
      "text/html": [
       "0.00000000000000000000000000000000000000000000000000000000000000000000000000000000000000000000339973693238815"
      ],
      "text/latex": [
       "0.00000000000000000000000000000000000000000000000000000000000000000000000000000000000000000000339973693238815"
      ],
      "text/markdown": [
       "0.00000000000000000000000000000000000000000000000000000000000000000000000000000000000000000000339973693238815"
      ],
      "text/plain": [
       "[1] 0.000000000000000000000000000000000000000000000000000000000000000000000000000000000000000000003399737"
      ]
     },
     "metadata": {},
     "output_type": "display_data"
    }
   ],
   "source": [
    "pchisq(454.837105802761, df = 8, lower.tail = 0)"
   ]
  },
  {
   "cell_type": "markdown",
   "id": "0c99df32-f101-4aa0-95f8-d2475f267040",
   "metadata": {},
   "source": [
    "well, since this test score is basically 0 and thus $<0.05$ we will reject $H_0$ and say that this model is significant."
   ]
  },
  {
   "cell_type": "markdown",
   "id": "be877f10-250e-4e90-acd0-e581de7a6851",
   "metadata": {},
   "source": [
    "## Part F"
   ]
  },
  {
   "cell_type": "markdown",
   "id": "f70abd52-3bf5-43d3-a208-8a2c54f99d93",
   "metadata": {},
   "source": [
    "In order to get confidence intervals for the parameters we will use this formula\n",
    "\n",
    "$$\n",
    "\\hat{\\beta}_k \\pm z_{\\frac{1-\\alpha}{2}}.se(\\hat{\\beta}_k)\n",
    "$$"
   ]
  },
  {
   "cell_type": "code",
   "execution_count": 22,
   "id": "db140673-5f0f-42c2-a801-40b893179b33",
   "metadata": {
    "vscode": {
     "languageId": "r"
    }
   },
   "outputs": [],
   "source": [
    "conf <- as.data.frame(summary(model.titanic)$coefficients) %>% mutate(std.error = `Std. Error`, z.val = `z value`, `z value` = NULL, `Std. Error` = NULL) %>%\n",
    "    select(Estimate, std.error, z.val) %>% \n",
    "    mutate(conf.int_lower = Estimate-qnorm(0.05/2, lower.tail = 0)*std.error,\n",
    "           conf.int_higher = Estimate+qnorm(0.05/2, lower.tail = 0)*std.error)"
   ]
  },
  {
   "cell_type": "code",
   "execution_count": 23,
   "id": "d5f08c90-af69-4b61-8946-18774b81ab15",
   "metadata": {
    "vscode": {
     "languageId": "r"
    }
   },
   "outputs": [
    {
     "data": {
      "text/html": [
       "<table class=\"dataframe\">\n",
       "<caption>A data.frame: 9 × 5</caption>\n",
       "<thead>\n",
       "\t<tr><th></th><th scope=col>Estimate</th><th scope=col>std.error</th><th scope=col>z.val</th><th scope=col>conf.int_lower</th><th scope=col>conf.int_higher</th></tr>\n",
       "\t<tr><th></th><th scope=col>&lt;dbl&gt;</th><th scope=col>&lt;dbl&gt;</th><th scope=col>&lt;dbl&gt;</th><th scope=col>&lt;dbl&gt;</th><th scope=col>&lt;dbl&gt;</th></tr>\n",
       "</thead>\n",
       "<tbody>\n",
       "\t<tr><th scope=row>(Intercept)</th><td> 5.673588955</td><td>0.719558508</td><td>  7.8848195</td><td> 4.263280194</td><td> 7.083897715</td></tr>\n",
       "\t<tr><th scope=row>Pclass</th><td>-1.156675480</td><td>0.185451843</td><td> -6.2370665</td><td>-1.520154413</td><td>-0.793196548</td></tr>\n",
       "\t<tr><th scope=row>Sexmale</th><td>-2.641776010</td><td>0.254600636</td><td>-10.3761564</td><td>-3.140784087</td><td>-2.142767933</td></tr>\n",
       "\t<tr><th scope=row>Age</th><td>-0.045404107</td><td>0.009401995</td><td> -4.8291992</td><td>-0.063831679</td><td>-0.026976535</td></tr>\n",
       "\t<tr><th scope=row>SibSp</th><td>-0.406539866</td><td>0.153465099</td><td> -2.6490705</td><td>-0.707325932</td><td>-0.105753799</td></tr>\n",
       "\t<tr><th scope=row>Parch</th><td>-0.056002598</td><td>0.133190472</td><td> -0.4204700</td><td>-0.317051126</td><td> 0.205045929</td></tr>\n",
       "\t<tr><th scope=row>Fare</th><td> 0.002710486</td><td>0.002991276</td><td>  0.9061304</td><td>-0.003152307</td><td> 0.008573278</td></tr>\n",
       "\t<tr><th scope=row>EmbarkedQ</th><td>-1.275799875</td><td>0.755194392</td><td> -1.6893662</td><td>-2.755953685</td><td> 0.204353935</td></tr>\n",
       "\t<tr><th scope=row>EmbarkedS</th><td>-0.497597022</td><td>0.293658600</td><td> -1.6944745</td><td>-1.073157302</td><td> 0.077963257</td></tr>\n",
       "</tbody>\n",
       "</table>\n"
      ],
      "text/latex": [
       "A data.frame: 9 × 5\n",
       "\\begin{tabular}{r|lllll}\n",
       "  & Estimate & std.error & z.val & conf.int\\_lower & conf.int\\_higher\\\\\n",
       "  & <dbl> & <dbl> & <dbl> & <dbl> & <dbl>\\\\\n",
       "\\hline\n",
       "\t(Intercept) &  5.673588955 & 0.719558508 &   7.8848195 &  4.263280194 &  7.083897715\\\\\n",
       "\tPclass & -1.156675480 & 0.185451843 &  -6.2370665 & -1.520154413 & -0.793196548\\\\\n",
       "\tSexmale & -2.641776010 & 0.254600636 & -10.3761564 & -3.140784087 & -2.142767933\\\\\n",
       "\tAge & -0.045404107 & 0.009401995 &  -4.8291992 & -0.063831679 & -0.026976535\\\\\n",
       "\tSibSp & -0.406539866 & 0.153465099 &  -2.6490705 & -0.707325932 & -0.105753799\\\\\n",
       "\tParch & -0.056002598 & 0.133190472 &  -0.4204700 & -0.317051126 &  0.205045929\\\\\n",
       "\tFare &  0.002710486 & 0.002991276 &   0.9061304 & -0.003152307 &  0.008573278\\\\\n",
       "\tEmbarkedQ & -1.275799875 & 0.755194392 &  -1.6893662 & -2.755953685 &  0.204353935\\\\\n",
       "\tEmbarkedS & -0.497597022 & 0.293658600 &  -1.6944745 & -1.073157302 &  0.077963257\\\\\n",
       "\\end{tabular}\n"
      ],
      "text/markdown": [
       "\n",
       "A data.frame: 9 × 5\n",
       "\n",
       "| <!--/--> | Estimate &lt;dbl&gt; | std.error &lt;dbl&gt; | z.val &lt;dbl&gt; | conf.int_lower &lt;dbl&gt; | conf.int_higher &lt;dbl&gt; |\n",
       "|---|---|---|---|---|---|\n",
       "| (Intercept) |  5.673588955 | 0.719558508 |   7.8848195 |  4.263280194 |  7.083897715 |\n",
       "| Pclass | -1.156675480 | 0.185451843 |  -6.2370665 | -1.520154413 | -0.793196548 |\n",
       "| Sexmale | -2.641776010 | 0.254600636 | -10.3761564 | -3.140784087 | -2.142767933 |\n",
       "| Age | -0.045404107 | 0.009401995 |  -4.8291992 | -0.063831679 | -0.026976535 |\n",
       "| SibSp | -0.406539866 | 0.153465099 |  -2.6490705 | -0.707325932 | -0.105753799 |\n",
       "| Parch | -0.056002598 | 0.133190472 |  -0.4204700 | -0.317051126 |  0.205045929 |\n",
       "| Fare |  0.002710486 | 0.002991276 |   0.9061304 | -0.003152307 |  0.008573278 |\n",
       "| EmbarkedQ | -1.275799875 | 0.755194392 |  -1.6893662 | -2.755953685 |  0.204353935 |\n",
       "| EmbarkedS | -0.497597022 | 0.293658600 |  -1.6944745 | -1.073157302 |  0.077963257 |\n",
       "\n"
      ],
      "text/plain": [
       "            Estimate     std.error   z.val       conf.int_lower conf.int_higher\n",
       "(Intercept)  5.673588955 0.719558508   7.8848195  4.263280194    7.083897715   \n",
       "Pclass      -1.156675480 0.185451843  -6.2370665 -1.520154413   -0.793196548   \n",
       "Sexmale     -2.641776010 0.254600636 -10.3761564 -3.140784087   -2.142767933   \n",
       "Age         -0.045404107 0.009401995  -4.8291992 -0.063831679   -0.026976535   \n",
       "SibSp       -0.406539866 0.153465099  -2.6490705 -0.707325932   -0.105753799   \n",
       "Parch       -0.056002598 0.133190472  -0.4204700 -0.317051126    0.205045929   \n",
       "Fare         0.002710486 0.002991276   0.9061304 -0.003152307    0.008573278   \n",
       "EmbarkedQ   -1.275799875 0.755194392  -1.6893662 -2.755953685    0.204353935   \n",
       "EmbarkedS   -0.497597022 0.293658600  -1.6944745 -1.073157302    0.077963257   "
      ]
     },
     "metadata": {},
     "output_type": "display_data"
    }
   ],
   "source": [
    "conf"
   ]
  },
  {
   "cell_type": "markdown",
   "id": "830d7aae-30df-4080-a9d1-cda6b947e771",
   "metadata": {},
   "source": [
    "The confidence intervals with size $\\alpha$ gives us the possible values of the said variable. Generally, if this confidence interval includes 0 as a possible value then that variable is insignificant."
   ]
  },
  {
   "cell_type": "markdown",
   "id": "a314139b-96bb-4e75-be08-94f1eb96dcc2",
   "metadata": {},
   "source": [
    "## Part G"
   ]
  },
  {
   "cell_type": "markdown",
   "id": "a66d3ef6-3dec-4d8e-b62e-f8d855e4e287",
   "metadata": {},
   "source": [
    "$$\n",
    "\\begin{aligned}\n",
    "confidence\\; interval \\Rightarrow \\; &lower < \\;\\beta_i < higher  \\\\\\\\\n",
    "\\Rightarrow \\; &e^{lower} < e^{\\beta_i} < e^{higher} \\\\\\\\\n",
    "\\Rightarrow \\; &\\frac{e^{lower}}{e^{\\beta_i}+1} < \\;\\frac{e^{\\beta_i}}{{e^{\\beta_i}+1}} < \\frac{e^{higher}}{{e^{\\beta_i}+1}}\n",
    "\\end{aligned}\n",
    "$$"
   ]
  },
  {
   "cell_type": "code",
   "execution_count": 26,
   "id": "26962a4b-6e34-4376-89f6-cd655df859fc",
   "metadata": {
    "vscode": {
     "languageId": "r"
    }
   },
   "outputs": [
    {
     "data": {
      "text/html": [
       "<table class=\"dataframe\">\n",
       "<caption>A data.frame: 9 × 7</caption>\n",
       "<thead>\n",
       "\t<tr><th></th><th scope=col>Estimate</th><th scope=col>std.error</th><th scope=col>z.val</th><th scope=col>conf.int_lower</th><th scope=col>conf.int_higher</th><th scope=col>conf.int_lower_exponential</th><th scope=col>conf.int_higher_exponential</th></tr>\n",
       "\t<tr><th></th><th scope=col>&lt;dbl&gt;</th><th scope=col>&lt;dbl&gt;</th><th scope=col>&lt;dbl&gt;</th><th scope=col>&lt;dbl&gt;</th><th scope=col>&lt;dbl&gt;</th><th scope=col>&lt;dbl&gt;</th><th scope=col>&lt;dbl&gt;</th></tr>\n",
       "</thead>\n",
       "<tbody>\n",
       "\t<tr><th scope=row>(Intercept)</th><td> 5.673588955</td><td>0.719558508</td><td>  7.8848195</td><td> 4.263280194</td><td> 7.083897715</td><td>0.24323229</td><td>4.0831924</td></tr>\n",
       "\t<tr><th scope=row>Pclass</th><td>-1.156675480</td><td>0.185451843</td><td> -6.2370665</td><td>-1.520154413</td><td>-0.793196548</td><td>0.16635459</td><td>0.3441506</td></tr>\n",
       "\t<tr><th scope=row>Sexmale</th><td>-2.641776010</td><td>0.254600636</td><td>-10.3761564</td><td>-3.140784087</td><td>-2.142767933</td><td>0.04037292</td><td>0.1095275</td></tr>\n",
       "\t<tr><th scope=row>Age</th><td>-0.045404107</td><td>0.009401995</td><td> -4.8291992</td><td>-0.063831679</td><td>-0.026976535</td><td>0.47972873</td><td>0.4977391</td></tr>\n",
       "\t<tr><th scope=row>SibSp</th><td>-0.406539866</td><td>0.153465099</td><td> -2.6490705</td><td>-0.707325932</td><td>-0.105753799</td><td>0.29590353</td><td>0.5400197</td></tr>\n",
       "\t<tr><th scope=row>Parch</th><td>-0.056002598</td><td>0.133190472</td><td> -0.4204700</td><td>-0.317051126</td><td> 0.205045929</td><td>0.37434068</td><td>0.6309732</td></tr>\n",
       "\t<tr><th scope=row>Fare</th><td> 0.002710486</td><td>0.002991276</td><td>  0.9061304</td><td>-0.003152307</td><td> 0.008573278</td><td>0.49775084</td><td>0.5036216</td></tr>\n",
       "\t<tr><th scope=row>EmbarkedQ</th><td>-1.275799875</td><td>0.755194392</td><td> -1.6893662</td><td>-2.755953685</td><td> 0.204353935</td><td>0.04967793</td><td>0.9589783</td></tr>\n",
       "\t<tr><th scope=row>EmbarkedS</th><td>-0.497597022</td><td>0.293658600</td><td> -1.6944745</td><td>-1.073157302</td><td> 0.077963257</td><td>0.21264266</td><td>0.6723195</td></tr>\n",
       "</tbody>\n",
       "</table>\n"
      ],
      "text/latex": [
       "A data.frame: 9 × 7\n",
       "\\begin{tabular}{r|lllllll}\n",
       "  & Estimate & std.error & z.val & conf.int\\_lower & conf.int\\_higher & conf.int\\_lower\\_exponential & conf.int\\_higher\\_exponential\\\\\n",
       "  & <dbl> & <dbl> & <dbl> & <dbl> & <dbl> & <dbl> & <dbl>\\\\\n",
       "\\hline\n",
       "\t(Intercept) &  5.673588955 & 0.719558508 &   7.8848195 &  4.263280194 &  7.083897715 & 0.24323229 & 4.0831924\\\\\n",
       "\tPclass & -1.156675480 & 0.185451843 &  -6.2370665 & -1.520154413 & -0.793196548 & 0.16635459 & 0.3441506\\\\\n",
       "\tSexmale & -2.641776010 & 0.254600636 & -10.3761564 & -3.140784087 & -2.142767933 & 0.04037292 & 0.1095275\\\\\n",
       "\tAge & -0.045404107 & 0.009401995 &  -4.8291992 & -0.063831679 & -0.026976535 & 0.47972873 & 0.4977391\\\\\n",
       "\tSibSp & -0.406539866 & 0.153465099 &  -2.6490705 & -0.707325932 & -0.105753799 & 0.29590353 & 0.5400197\\\\\n",
       "\tParch & -0.056002598 & 0.133190472 &  -0.4204700 & -0.317051126 &  0.205045929 & 0.37434068 & 0.6309732\\\\\n",
       "\tFare &  0.002710486 & 0.002991276 &   0.9061304 & -0.003152307 &  0.008573278 & 0.49775084 & 0.5036216\\\\\n",
       "\tEmbarkedQ & -1.275799875 & 0.755194392 &  -1.6893662 & -2.755953685 &  0.204353935 & 0.04967793 & 0.9589783\\\\\n",
       "\tEmbarkedS & -0.497597022 & 0.293658600 &  -1.6944745 & -1.073157302 &  0.077963257 & 0.21264266 & 0.6723195\\\\\n",
       "\\end{tabular}\n"
      ],
      "text/markdown": [
       "\n",
       "A data.frame: 9 × 7\n",
       "\n",
       "| <!--/--> | Estimate &lt;dbl&gt; | std.error &lt;dbl&gt; | z.val &lt;dbl&gt; | conf.int_lower &lt;dbl&gt; | conf.int_higher &lt;dbl&gt; | conf.int_lower_exponential &lt;dbl&gt; | conf.int_higher_exponential &lt;dbl&gt; |\n",
       "|---|---|---|---|---|---|---|---|\n",
       "| (Intercept) |  5.673588955 | 0.719558508 |   7.8848195 |  4.263280194 |  7.083897715 | 0.24323229 | 4.0831924 |\n",
       "| Pclass | -1.156675480 | 0.185451843 |  -6.2370665 | -1.520154413 | -0.793196548 | 0.16635459 | 0.3441506 |\n",
       "| Sexmale | -2.641776010 | 0.254600636 | -10.3761564 | -3.140784087 | -2.142767933 | 0.04037292 | 0.1095275 |\n",
       "| Age | -0.045404107 | 0.009401995 |  -4.8291992 | -0.063831679 | -0.026976535 | 0.47972873 | 0.4977391 |\n",
       "| SibSp | -0.406539866 | 0.153465099 |  -2.6490705 | -0.707325932 | -0.105753799 | 0.29590353 | 0.5400197 |\n",
       "| Parch | -0.056002598 | 0.133190472 |  -0.4204700 | -0.317051126 |  0.205045929 | 0.37434068 | 0.6309732 |\n",
       "| Fare |  0.002710486 | 0.002991276 |   0.9061304 | -0.003152307 |  0.008573278 | 0.49775084 | 0.5036216 |\n",
       "| EmbarkedQ | -1.275799875 | 0.755194392 |  -1.6893662 | -2.755953685 |  0.204353935 | 0.04967793 | 0.9589783 |\n",
       "| EmbarkedS | -0.497597022 | 0.293658600 |  -1.6944745 | -1.073157302 |  0.077963257 | 0.21264266 | 0.6723195 |\n",
       "\n"
      ],
      "text/plain": [
       "            Estimate     std.error   z.val       conf.int_lower conf.int_higher\n",
       "(Intercept)  5.673588955 0.719558508   7.8848195  4.263280194    7.083897715   \n",
       "Pclass      -1.156675480 0.185451843  -6.2370665 -1.520154413   -0.793196548   \n",
       "Sexmale     -2.641776010 0.254600636 -10.3761564 -3.140784087   -2.142767933   \n",
       "Age         -0.045404107 0.009401995  -4.8291992 -0.063831679   -0.026976535   \n",
       "SibSp       -0.406539866 0.153465099  -2.6490705 -0.707325932   -0.105753799   \n",
       "Parch       -0.056002598 0.133190472  -0.4204700 -0.317051126    0.205045929   \n",
       "Fare         0.002710486 0.002991276   0.9061304 -0.003152307    0.008573278   \n",
       "EmbarkedQ   -1.275799875 0.755194392  -1.6893662 -2.755953685    0.204353935   \n",
       "EmbarkedS   -0.497597022 0.293658600  -1.6944745 -1.073157302    0.077963257   \n",
       "            conf.int_lower_exponential conf.int_higher_exponential\n",
       "(Intercept) 0.24323229                 4.0831924                  \n",
       "Pclass      0.16635459                 0.3441506                  \n",
       "Sexmale     0.04037292                 0.1095275                  \n",
       "Age         0.47972873                 0.4977391                  \n",
       "SibSp       0.29590353                 0.5400197                  \n",
       "Parch       0.37434068                 0.6309732                  \n",
       "Fare        0.49775084                 0.5036216                  \n",
       "EmbarkedQ   0.04967793                 0.9589783                  \n",
       "EmbarkedS   0.21264266                 0.6723195                  "
      ]
     },
     "metadata": {},
     "output_type": "display_data"
    }
   ],
   "source": [
    "conf %>% mutate(conf.int_lower_exponential = exp(conf.int_lower)/(exp(Estimate)+1),\n",
    "                conf.int_higher_exponential = exp(conf.int_higher)/(exp(Estimate)+1))"
   ]
  },
  {
   "cell_type": "markdown",
   "id": "f1953f64-d044-497f-8048-d679dcfb4605",
   "metadata": {},
   "source": [
    "After this transformation now this confidence interval became the probabilities confidence interval."
   ]
  },
  {
   "cell_type": "markdown",
   "id": "d0106978-b987-4452-97fa-cefcaa66a68a",
   "metadata": {
    "tags": []
   },
   "source": [
    "## Part H"
   ]
  },
  {
   "cell_type": "code",
   "execution_count": null,
   "id": "aac7884a-3a4b-423f-92b7-94c4667a2e0c",
   "metadata": {},
   "outputs": [],
   "source": [
    "library(ResourceSelection)"
   ]
  },
  {
   "cell_type": "code",
   "execution_count": null,
   "id": "3e45476b-37b1-419d-b05a-9d2ed1376bee",
   "metadata": {},
   "outputs": [],
   "source": [
    "hoslem.test(titanic_train$Survived, model.titanic$fitted.values)"
   ]
  },
  {
   "cell_type": "markdown",
   "id": "69bbf6f4-bb08-49bd-b338-c64179d2b47f",
   "metadata": {},
   "source": [
    "Since our value is more extreme we will reject $H_0$ and say that model is not a good fit."
   ]
  },
  {
   "cell_type": "markdown",
   "id": "c11c0087-de48-42d3-8f8c-88f7723543ad",
   "metadata": {},
   "source": [
    "## Part I"
   ]
  },
  {
   "cell_type": "code",
   "execution_count": null,
   "id": "80f8c23e-ec30-4c7f-a2a5-2ac547e26e11",
   "metadata": {},
   "outputs": [],
   "source": [
    "predictions <- ifelse(predict(model.titanic, titanic_test %>% select(-Survived), type='response') > 0.5, 1, 0)"
   ]
  },
  {
   "cell_type": "code",
   "execution_count": null,
   "id": "e73594fe-6618-45ac-b7f4-e1919c34571d",
   "metadata": {},
   "outputs": [],
   "source": [
    "model.df <- data.frame(real=titanic_test$Survived, prediction=predictions)"
   ]
  },
  {
   "cell_type": "code",
   "execution_count": null,
   "id": "168ac071-5073-4612-9b08-7353e4f03107",
   "metadata": {},
   "outputs": [],
   "source": [
    "t(table(model.df))"
   ]
  },
  {
   "cell_type": "code",
   "execution_count": null,
   "id": "040e2ab3-6d2e-462f-8f17-208c844d1bf2",
   "metadata": {},
   "outputs": [],
   "source": [
    "sensitivity <- 44/(44+14)\n",
    "specificity <- 66/(66+19)\n",
    "prevalence <- (66+44)/(66+14+19+44)\n",
    "noinfrate <- (66+19)/(66+14+19+44)"
   ]
  },
  {
   "cell_type": "code",
   "execution_count": null,
   "id": "f53b5d94-4506-427a-8ca0-636d784113b4",
   "metadata": {},
   "outputs": [],
   "source": [
    "ppv <- sensitivity*prevalence/((sensitivity+prevalence)+((1-specificity)*(1-prevalence)))\n",
    "npv <- sensitivity*(1-prevalence)/(((1-sensitivity)+prevalence)+((specificity)*(1-prevalence)))"
   ]
  },
  {
   "cell_type": "code",
   "execution_count": null,
   "id": "8b4948da-28d0-402d-8892-071fb02ada1b",
   "metadata": {},
   "outputs": [],
   "source": [
    "detection.rate <- 44/(66+14+19+44)\n",
    "detection.prevalence <- (44+14)/(66+14+19+44)\n",
    "balanced.acc <- (sensitivity+specificity)/2\n",
    "precision = 44/(14+44)\n",
    "recall = 44/(19+44)"
   ]
  },
  {
   "cell_type": "code",
   "execution_count": null,
   "id": "e2e57dbc-948c-4048-9df7-f3dcf4ff5f68",
   "metadata": {},
   "outputs": [],
   "source": [
    "sensitivity\n",
    "specificity\n",
    "noinfrate\n",
    "prevalence\n",
    "ppv\n",
    "npv\n",
    "detection.rate\n",
    "detection.prevalence\n",
    "balanced.acc\n",
    "precision\n",
    "recall"
   ]
  },
  {
   "cell_type": "code",
   "execution_count": null,
   "id": "0150905c-0728-4881-b7f9-065967cd639e",
   "metadata": {},
   "outputs": [],
   "source": [
    "confusionMatrix(factor(model.df$prediction), factor(model.df$real), positive = \"0\")"
   ]
  },
  {
   "cell_type": "markdown",
   "id": "d4b75c70-d1f0-4b20-a956-c49f6b14c060",
   "metadata": {},
   "source": [
    "same."
   ]
  },
  {
   "cell_type": "markdown",
   "id": "e7f24e0e-f7d0-4085-962b-e77af2d79f8c",
   "metadata": {},
   "source": [
    "## Part J"
   ]
  },
  {
   "cell_type": "code",
   "execution_count": null,
   "id": "1762a535-a517-4c2c-9cc1-43f906156f8f",
   "metadata": {},
   "outputs": [],
   "source": [
    "library(pROC)"
   ]
  },
  {
   "cell_type": "code",
   "execution_count": null,
   "id": "4a9d8b21-3cc3-4f2c-a687-28827e0bdde2",
   "metadata": {},
   "outputs": [],
   "source": [
    "g <- roc(Survived ~ model.titanic$fitted.values, data=titanic_train)\n",
    "plot(g)\n",
    "points(.8,.8)\n",
    "abline(0.8,0)\n",
    "abline(v=0.8)\n",
    "abline(0,1)"
   ]
  },
  {
   "cell_type": "markdown",
   "id": "e441efa0-d3b9-47ec-9526-a84b5abc89f6",
   "metadata": {},
   "source": [
    "0.8 for both sensitivity and specificity seems like the most efficient point. This plot visualizes the trade off between sensitivity and specificity, best place is the most left upper corner."
   ]
  },
  {
   "cell_type": "markdown",
   "id": "b6c5219c-54a5-4e6d-858b-5b8c88c06b5b",
   "metadata": {},
   "source": [
    "# Q2"
   ]
  },
  {
   "cell_type": "markdown",
   "id": "f62b188e-6a6a-4405-ac14-7c77801a04af",
   "metadata": {},
   "source": [
    "## Part A"
   ]
  },
  {
   "cell_type": "markdown",
   "id": "8636ad0a-0a4d-418c-b55d-dd69161ff039",
   "metadata": {},
   "source": [
    "### Forward Selection"
   ]
  },
  {
   "attachments": {
    "forward.png": {
     "image/png": "[encoded data removed]"
    }
   },
   "cell_type": "markdown",
   "id": "df0a7e35-17fa-4f0c-a64a-5e803c2bde49",
   "metadata": {},
   "source": [
    "![forward.png](attachment:forward.png){width=200px}"
   ]
  },
  {
   "cell_type": "markdown",
   "id": "6f655dc9-591a-44cb-957b-74c84cd91158",
   "metadata": {},
   "source": [
    "### Backwards elimination"
   ]
  },
  {
   "cell_type": "markdown",
   "id": "bc7fe7ef-8e4c-47b0-b3ad-d5f0dabc455d",
   "metadata": {},
   "source": [
    "<img src=\"pictures/backward.png\" width=\"200\" height=\"500\" />"
   ]
  },
  {
   "cell_type": "markdown",
   "id": "311bbe02-2ca2-4c47-91bc-b26d790354c5",
   "metadata": {},
   "source": [
    "### Stepwise regression"
   ]
  },
  {
   "cell_type": "markdown",
   "id": "e732ac73-7892-4ca8-9df0-1c3230c9a16b",
   "metadata": {},
   "source": [
    "<img src=\"pictures/stepwise.png\" width=\"300\" height=\"500\" />"
   ]
  },
  {
   "cell_type": "markdown",
   "id": "6247a50a-a558-42c8-a575-bde3f8350248",
   "metadata": {},
   "source": [
    "## Part B\n",
    "\n",
    "Model validation may not be mentioned alot in papers but its a must have component of model building as it is the process of making sure that model works and can be used in real life. "
   ]
  },
  {
   "cell_type": "markdown",
   "id": "b1debbea-b29e-450b-9744-94a39c8f0789",
   "metadata": {},
   "source": [
    "## Part C"
   ]
  },
  {
   "cell_type": "markdown",
   "id": "63c87b15-ba3f-4c08-8e2b-56f0a5f488da",
   "metadata": {},
   "source": [
    "- Gender\n",
    "- Age\n",
    "- n.projects\n",
    "- Graduation.CGPA\n",
    "- haslover\n",
    "- personality\n",
    "- enthusiasm\n",
    "- living.place\n",
    "- living.conditions.score\n",
    "- monthly.earnings\n",
    "- has.necessary.equipment\n",
    "- disability.severity"
   ]
  },
  {
   "cell_type": "markdown",
   "id": "3ca71c82-2971-418d-8f98-1685961bd19e",
   "metadata": {},
   "source": [
    "## Part D"
   ]
  },
  {
   "cell_type": "markdown",
   "id": "589f29eb-989c-4a90-b9e1-d8f44a3c0de8",
   "metadata": {},
   "source": [
    "Thats because we want to be adding variables less often than we remove them. If the p value for the entry is higher than p value for removal then that means we will needlessly increase the size of the model with not so good variables."
   ]
  },
  {
   "cell_type": "markdown",
   "id": "9bc09760-816b-44c1-8c84-8e9b8d90976d",
   "metadata": {},
   "source": [
    "# Q3"
   ]
  },
  {
   "cell_type": "code",
   "execution_count": null,
   "id": "f71fc777-655d-40af-80c6-9b36317fea97",
   "metadata": {},
   "outputs": [],
   "source": [
    "train <- read.xlsx(\"./job_model_building_data.xlsx\")\n",
    "test <- read.xlsx(\"./job_validation_data.xlsx\")\n"
   ]
  },
  {
   "cell_type": "code",
   "execution_count": null,
   "id": "abaac6cb-3fa3-4bde-93df-f6b8e4e8a856",
   "metadata": {},
   "outputs": [],
   "source": [
    "head(train)"
   ]
  },
  {
   "cell_type": "code",
   "execution_count": null,
   "id": "ad3e645d-12f9-43f3-98dc-d59d891fc863",
   "metadata": {},
   "outputs": [],
   "source": [
    "head(test)"
   ]
  },
  {
   "cell_type": "markdown",
   "id": "37d143f6-a702-4d62-8366-b3c0ee90d690",
   "metadata": {},
   "source": [
    "## Part A"
   ]
  },
  {
   "cell_type": "code",
   "execution_count": null,
   "id": "1cfed470-b179-4060-835c-8091d4587bda",
   "metadata": {},
   "outputs": [],
   "source": [
    "pairs(train)"
   ]
  },
  {
   "cell_type": "code",
   "execution_count": null,
   "id": "2dc21965-3612-4b76-a5d7-a64838cda364",
   "metadata": {},
   "outputs": [],
   "source": [
    "library(corrplot)"
   ]
  },
  {
   "cell_type": "code",
   "execution_count": null,
   "id": "8529f087-b480-4b4e-a9ba-f5a49acd0918",
   "metadata": {},
   "outputs": [],
   "source": [
    "corrplot(cor(train %>% select(-y)))"
   ]
  },
  {
   "cell_type": "markdown",
   "id": "802d4264-b61b-4dae-a7ac-6facd07e4f5a",
   "metadata": {},
   "source": [
    "x3 & x4 seems to be highly correlated, there may be multicolinearity problem. Also in the plots, y\\~x3 and y\\~x4 looks near identical."
   ]
  },
  {
   "cell_type": "code",
   "execution_count": null,
   "id": "5d34038d-cbe6-4990-b00f-e24f57f8b8b9",
   "metadata": {},
   "outputs": [],
   "source": [
    "vif(lm(y~., data=train))"
   ]
  },
  {
   "cell_type": "markdown",
   "id": "24ae8685-f976-4361-a941-4f791c733937",
   "metadata": {},
   "source": [
    "These vif values are not that high. But if we wanted to be more conservative we could drop either x3 or x4."
   ]
  },
  {
   "cell_type": "markdown",
   "id": "4be10b73-a5e8-4afc-9096-4478c358057f",
   "metadata": {},
   "source": [
    "## Part B"
   ]
  },
  {
   "cell_type": "code",
   "execution_count": null,
   "id": "6543a587-8484-4572-a4c2-5146cca45da2",
   "metadata": {},
   "outputs": [],
   "source": [
    "model.new <- lm(y~., data=train)"
   ]
  },
  {
   "cell_type": "code",
   "execution_count": null,
   "id": "7dc1f5a4-b762-4fd3-a3ac-8cc31cb9d60c",
   "metadata": {},
   "outputs": [],
   "source": [
    "summary(model.new)"
   ]
  },
  {
   "cell_type": "markdown",
   "id": "5634a1a1-c833-43cc-9f1d-c428f29bce59",
   "metadata": {},
   "source": [
    "To me it seems like x2 should be dropped. That is because 0 is within the confidence interval. "
   ]
  },
  {
   "cell_type": "markdown",
   "id": "348ad2e9-f6d2-4478-b137-d42a81973287",
   "metadata": {},
   "source": [
    "## Part C"
   ]
  },
  {
   "cell_type": "code",
   "execution_count": null,
   "id": "52aa886c-9df4-42a8-ac8b-092e51241d13",
   "metadata": {},
   "outputs": [],
   "source": [
    "number.of.predictors <- 4\n",
    "predictor.names <- colnames(train)[1:number.of.predictors]\n",
    "ind <- expand.grid(c(1,0), c(1,0), c(1,0), c(1,0))\n",
    "c <- c()\n",
    "for(i in 1:nrow(ind)){\n",
    "c[i] <- paste(predictor.names[as.logical(ind[i,])], collapse=\"+\")\n",
    "}\n",
    "c[16] <- 1\n",
    "c <- c[order(nchar(c))]\n",
    "c <- paste(\"y ~\", c)\n",
    "all <- data.frame(formula=rep(NA, 16), rsq.p= rep(NA, 16))\n",
    "for(i in 1:length(c)){\n",
    "    all$formula[i] <- c[i]\n",
    "    all$rsq.p[i] <- summary(lm(as.formula(c[i]), data=train))$adj.r.squared\n",
    "}"
   ]
  },
  {
   "cell_type": "code",
   "execution_count": null,
   "id": "29201986-223d-409d-9ecc-590eb97ff2f4",
   "metadata": {},
   "outputs": [],
   "source": [
    "all$p <- c(1,2,2,2,2,3,3,3,3,3,3,4,4,4,4,5)\n",
    "all"
   ]
  },
  {
   "cell_type": "code",
   "execution_count": null,
   "id": "9abd57bc-54fd-4ffd-9ab4-5f5b2da9606c",
   "metadata": {},
   "outputs": [],
   "source": [
    "max.rsq <- group_by(all, p) %>% summarize(max.rsq=max(rsq.p))\n",
    "ggplot(all, aes(p, rsq.p)) + geom_point() + ylab(\"R2.adj(p)\") + geom_line(data= max.rsq, aes(p,max.rsq))"
   ]
  },
  {
   "cell_type": "markdown",
   "id": "9ebfa743-74b4-4535-8ab8-436998b52d00",
   "metadata": {},
   "source": [
    "When the formula is *y = x1 + x3 + x4* the $R^2_{adj}$ has the highest value."
   ]
  },
  {
   "cell_type": "markdown",
   "id": "f0cf7c85-d69c-4c1e-b912-9d8f7f2feb71",
   "metadata": {},
   "source": [
    "## Part D"
   ]
  },
  {
   "cell_type": "code",
   "execution_count": null,
   "id": "d48444e3-c7e9-4546-b2dc-6be2bd84d513",
   "metadata": {},
   "outputs": [],
   "source": [
    "model <- lm(y~., data=train)\n",
    "ols_step_both_p(model, pent = 0.05, prem = 0.1)$model"
   ]
  },
  {
   "cell_type": "markdown",
   "id": "a8246cb9-26ef-4aac-adf3-e08180808ab3",
   "metadata": {},
   "source": [
    "## Part E"
   ]
  },
  {
   "cell_type": "markdown",
   "id": "1ff7d506-b521-4140-be78-0f4da8c4ae5e",
   "metadata": {},
   "source": [
    "They are the same.."
   ]
  },
  {
   "cell_type": "markdown",
   "id": "10b35f8f-2b51-44af-a316-14ac1a64e0da",
   "metadata": {},
   "source": [
    "## Part F"
   ]
  },
  {
   "cell_type": "code",
   "execution_count": null,
   "id": "c99103a0-1337-47ae-8c57-79b5b96ca09b",
   "metadata": {},
   "outputs": [],
   "source": [
    "model.new <- lm(y~.-x2, train)\n",
    "PRESS <- function(model) {\n",
    "    i <- residuals(model)/(1 - lm.influence(model)$hat)\n",
    "    sum(i^2)\n",
    "}\n",
    "PRESS(model.new)"
   ]
  },
  {
   "cell_type": "markdown",
   "id": "20ae60ad-6931-49fd-94a1-37817c247ee0",
   "metadata": {},
   "source": [
    "$$\n",
    "SSE: \\; \\sum (\\hat{y} - \\bar{y})^2 \\\\\n",
    "MSE: \\; \\frac{SSE}{n-p} \\\\\n",
    "$$"
   ]
  },
  {
   "cell_type": "code",
   "execution_count": null,
   "id": "aa519847-67f4-46d3-859e-4eefdea79343",
   "metadata": {},
   "outputs": [],
   "source": [
    "sse <- sum((model.new$fitted.values - train$y)**2)\n",
    "sse"
   ]
  },
  {
   "cell_type": "code",
   "execution_count": null,
   "id": "4c1a2157-02e3-4735-afec-ba91d3d849df",
   "metadata": {},
   "outputs": [],
   "source": [
    "mse <- sse/(nrow(train)-1)"
   ]
  },
  {
   "cell_type": "markdown",
   "id": "41ac2ca2-6d67-4b6f-91b2-eba42ba87316",
   "metadata": {},
   "source": [
    "## Part G "
   ]
  },
  {
   "cell_type": "code",
   "execution_count": null,
   "id": "ffc09bab-acc1-42f2-9531-6f26435fea2e",
   "metadata": {},
   "outputs": [],
   "source": [
    "par(mfrow=c(1,2))\n",
    "corrplot(cor(train %>% select(-y)), type=\"upper\", title = \"Train\")\n",
    "corrplot(cor(test %>% select(-y)), type=\"upper\", title = \"Test\")"
   ]
  },
  {
   "cell_type": "markdown",
   "id": "a8736ecc-d4fa-44f0-bbcb-71bcedfde3f6",
   "metadata": {},
   "source": [
    "corplots are near identical with the sole difference being correlation of x2~x4"
   ]
  },
  {
   "cell_type": "markdown",
   "id": "9e787e59-bcd8-4913-a217-ea824c7a0d04",
   "metadata": {},
   "source": [
    "## Part H"
   ]
  },
  {
   "cell_type": "code",
   "execution_count": null,
   "id": "a9fc5eda-c55a-4db0-acf1-2b850eea3364",
   "metadata": {},
   "outputs": [],
   "source": [
    "summary(lm(y~.-x2, test))"
   ]
  },
  {
   "cell_type": "code",
   "execution_count": null,
   "id": "32dab423-dc9e-4e9a-b4a6-423c4d5afd8d",
   "metadata": {},
   "outputs": [],
   "source": [
    "summary(model.new)"
   ]
  },
  {
   "cell_type": "markdown",
   "id": "5d1e00b1-b517-4dae-9650-1e525c81c61a",
   "metadata": {},
   "source": [
    "These two models look very alike but the importance of x4 seems to be much higher in the test model. This might mean that model is not correctly specified."
   ]
  },
  {
   "cell_type": "code",
   "execution_count": null,
   "id": "faa250de-a10c-48f9-8d56-32595c1c9008",
   "metadata": {},
   "outputs": [],
   "source": [
    "data.frame(train=c(4.284, 0.94), test=c(4.072, 0.96), row.names = c(\"MSE\", \"Rsquared\"))"
   ]
  },
  {
   "cell_type": "markdown",
   "id": "27c0db88-1e68-4503-8faa-31af50162a90",
   "metadata": {},
   "source": [
    "As we can see the values are near identical. This means the model has high chance to work with new data. It is useful."
   ]
  },
  {
   "cell_type": "markdown",
   "id": "dffb45d4-59a4-4bb1-91a3-80cd1390ed44",
   "metadata": {},
   "source": [
    "## Part I"
   ]
  },
  {
   "cell_type": "code",
   "execution_count": null,
   "id": "b4d7d6f7-968d-4795-bff5-95bf88002466",
   "metadata": {},
   "outputs": [],
   "source": [
    "mspe <- sum((predict(model.new, test %>% select(-y), type=\"response\")-test$y)**2)/(nrow(test)-1)"
   ]
  },
  {
   "cell_type": "code",
   "execution_count": null,
   "id": "bccfc4fd-0cc3-4f01-aea4-67d915cf428f",
   "metadata": {},
   "outputs": [],
   "source": [
    "mspe\n",
    "mse"
   ]
  },
  {
   "cell_type": "markdown",
   "id": "7d2f63b5-8ff4-4bf2-a555-9ac9830741f3",
   "metadata": {},
   "source": [
    "mean squared errors are close also."
   ]
  },
  {
   "cell_type": "markdown",
   "id": "8a9b2b30-7ec2-492e-9389-26d66b50e246",
   "metadata": {},
   "source": [
    "## Part J"
   ]
  },
  {
   "cell_type": "code",
   "execution_count": null,
   "id": "c296ab64-62c5-4731-8131-3cbf16d512d4",
   "metadata": {},
   "outputs": [],
   "source": [
    "df <- rbind(train, test)\n",
    "model.full <- lm(y~.-x2, df)"
   ]
  },
  {
   "cell_type": "code",
   "execution_count": null,
   "id": "282dce86-f517-46c9-9ebf-7f46acb11d3f",
   "metadata": {},
   "outputs": [],
   "source": [
    "summary(model.new)$coefficients[,'Std. Error']"
   ]
  },
  {
   "cell_type": "code",
   "execution_count": null,
   "id": "276e716b-07c9-4187-acd0-f8ea5ba26c39",
   "metadata": {},
   "outputs": [],
   "source": [
    "data.frame(train = summary(model.new)$coefficients[,'Std. Error'], full = summary(model.full)$coefficients[,'Std. Error'])"
   ]
  },
  {
   "cell_type": "markdown",
   "id": "30d09991-3353-493d-a5f1-f446b35bc5cf",
   "metadata": {},
   "source": [
    "All standard deviations are lower, although not that much."
   ]
  }
 ],
 "metadata": {
  "authors": [
   {
    "name": "Mert Göksel"
   }
  ],
  "interpreter": {
   "hash": "ad315c49e2ac66c1afb82b90ad8ba095f36fa56049f456b0310f827aaa2719b3"
  },
  "kernelspec": {
   "display_name": "R",
   "language": "R",
   "name": "ir"
  },
  "language_info": {
   "codemirror_mode": "r",
   "file_extension": ".r",
   "mimetype": "text/x-r-source",
   "name": "R",
   "pygments_lexer": "r",
   "version": "4.1.3"
  }
 },
 "nbformat": 4,
 "nbformat_minor": 5
}
