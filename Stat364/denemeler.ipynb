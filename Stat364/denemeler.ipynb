{
 "cells": [
  {
   "cell_type": "code",
   "execution_count": 1,
   "id": "b36ed0d3-a738-48f5-9fbf-f1f0420084d7",
   "metadata": {},
   "outputs": [
    {
     "name": "stderr",
     "output_type": "stream",
     "text": [
      "-- \u001b[1mAttaching packages\u001b[22m --------------------------------------------------------------------------------------------------------- tidyverse 1.3.1 --\n",
      "\n",
      "\u001b[32mv\u001b[39m \u001b[34mggplot2\u001b[39m 3.3.6     \u001b[32mv\u001b[39m \u001b[34mpurrr  \u001b[39m 0.3.4\n",
      "\u001b[32mv\u001b[39m \u001b[34mtibble \u001b[39m 3.1.7     \u001b[32mv\u001b[39m \u001b[34mdplyr  \u001b[39m 1.0.9\n",
      "\u001b[32mv\u001b[39m \u001b[34mtidyr  \u001b[39m 1.2.0     \u001b[32mv\u001b[39m \u001b[34mstringr\u001b[39m 1.4.0\n",
      "\u001b[32mv\u001b[39m \u001b[34mreadr  \u001b[39m 2.1.2     \u001b[32mv\u001b[39m \u001b[34mforcats\u001b[39m 0.5.1\n",
      "\n",
      "-- \u001b[1mConflicts\u001b[22m ------------------------------------------------------------------------------------------------------------ tidyverse_conflicts() --\n",
      "\u001b[31mx\u001b[39m \u001b[34mdplyr\u001b[39m::\u001b[32mfilter()\u001b[39m masks \u001b[34mstats\u001b[39m::filter()\n",
      "\u001b[31mx\u001b[39m \u001b[34mdplyr\u001b[39m::\u001b[32mlag()\u001b[39m    masks \u001b[34mstats\u001b[39m::lag()\n",
      "\n"
     ]
    }
   ],
   "source": [
    "library(tidyverse)"
   ]
  },
  {
   "cell_type": "code",
   "execution_count": 10,
   "id": "5e02b308-c439-44c1-8ad8-a0d02b8704fb",
   "metadata": {},
   "outputs": [
    {
     "data": {
      "text/html": [
       "<table class=\"dataframe\">\n",
       "<caption>A data.frame: 6 × 2</caption>\n",
       "<thead>\n",
       "\t<tr><th></th><th scope=col>x</th><th scope=col>y</th></tr>\n",
       "\t<tr><th></th><th scope=col>&lt;dbl&gt;</th><th scope=col>&lt;dbl&gt;</th></tr>\n",
       "</thead>\n",
       "<tbody>\n",
       "\t<tr><th scope=row>1</th><td>2</td><td>1</td></tr>\n",
       "\t<tr><th scope=row>2</th><td>2</td><td>1</td></tr>\n",
       "\t<tr><th scope=row>3</th><td>2</td><td>1</td></tr>\n",
       "\t<tr><th scope=row>4</th><td>2</td><td>1</td></tr>\n",
       "\t<tr><th scope=row>5</th><td>2</td><td>1</td></tr>\n",
       "\t<tr><th scope=row>6</th><td>2</td><td>1</td></tr>\n",
       "</tbody>\n",
       "</table>\n"
      ],
      "text/latex": [
       "A data.frame: 6 × 2\n",
       "\\begin{tabular}{r|ll}\n",
       "  & x & y\\\\\n",
       "  & <dbl> & <dbl>\\\\\n",
       "\\hline\n",
       "\t1 & 2 & 1\\\\\n",
       "\t2 & 2 & 1\\\\\n",
       "\t3 & 2 & 1\\\\\n",
       "\t4 & 2 & 1\\\\\n",
       "\t5 & 2 & 1\\\\\n",
       "\t6 & 2 & 1\\\\\n",
       "\\end{tabular}\n"
      ],
      "text/markdown": [
       "\n",
       "A data.frame: 6 × 2\n",
       "\n",
       "| <!--/--> | x &lt;dbl&gt; | y &lt;dbl&gt; |\n",
       "|---|---|---|\n",
       "| 1 | 2 | 1 |\n",
       "| 2 | 2 | 1 |\n",
       "| 3 | 2 | 1 |\n",
       "| 4 | 2 | 1 |\n",
       "| 5 | 2 | 1 |\n",
       "| 6 | 2 | 1 |\n",
       "\n"
      ],
      "text/plain": [
       "  x y\n",
       "1 2 1\n",
       "2 2 1\n",
       "3 2 1\n",
       "4 2 1\n",
       "5 2 1\n",
       "6 2 1"
      ]
     },
     "metadata": {},
     "output_type": "display_data"
    }
   ],
   "source": [
    "data <- data.frame(x=c(rep(2,500), rep(5,500), rep(10,500), rep(20,500), rep(25,500), rep(30,500)), y=NA)\n",
    "data$y[1:72] <- 1\n",
    "data$y[73:500] <- 0\n",
    "data$y[501:603] <- 1\n",
    "data$y[604:1000]<- 0\n",
    "data$y[1001:1170] <- 1\n",
    "data$y[1171:1500] <- 0\n",
    "data$y[1501:1796] <- 1\n",
    "data$y[1797:2000] <- 0\n",
    "data$y[2001:2406] <- 1\n",
    "data$y[2406:2500] <- 0\n",
    "data$y[2501:2949] <- 1\n",
    "data$y[2950:3000] <- 0\n",
    "head(data)"
   ]
  },
  {
   "cell_type": "code",
   "execution_count": 11,
   "id": "7d0553b7-a2bb-4f48-96b4-43f3583dd109",
   "metadata": {},
   "outputs": [
    {
     "data": {
      "text/plain": [
       "\n",
       "Call:\n",
       "glm(formula = y ~ x, family = \"binomial\", data = data)\n",
       "\n",
       "Deviance Residuals: \n",
       "    Min       1Q   Median       3Q      Max  \n",
       "-2.0598  -0.6648  -0.5521   0.6895   1.9781  \n",
       "\n",
       "Coefficients:\n",
       "             Estimate Std. Error z value Pr(>|z|)    \n",
       "(Intercept) -2.075167   0.084813  -24.47   <2e-16 ***\n",
       "x            0.135626   0.004768   28.45   <2e-16 ***\n",
       "---\n",
       "Signif. codes:  0 '***' 0.001 '**' 0.01 '*' 0.05 '.' 0.1 ' ' 1\n",
       "\n",
       "(Dispersion parameter for binomial family taken to be 1)\n",
       "\n",
       "    Null deviance: 4158.8  on 2999  degrees of freedom\n",
       "Residual deviance: 3065.5  on 2998  degrees of freedom\n",
       "AIC: 3069.5\n",
       "\n",
       "Number of Fisher Scoring iterations: 3\n"
      ]
     },
     "metadata": {},
     "output_type": "display_data"
    }
   ],
   "source": [
    "logistic.model <- glm(y~x, data, family = \"binomial\")\n",
    "summary(logistic.model)"
   ]
  },
  {
   "cell_type": "code",
   "execution_count": 36,
   "id": "013b9216-05bb-4c28-bf4b-f791ac6a4743",
   "metadata": {},
   "outputs": [
    {
     "data": {
      "text/html": [
       "<table class=\"dataframe\">\n",
       "<caption>A data.frame: 6 × 3</caption>\n",
       "<thead>\n",
       "\t<tr><th></th><th scope=col>x</th><th scope=col>n</th><th scope=col>y</th></tr>\n",
       "\t<tr><th></th><th scope=col>&lt;dbl&gt;</th><th scope=col>&lt;dbl&gt;</th><th scope=col>&lt;dbl&gt;</th></tr>\n",
       "</thead>\n",
       "<tbody>\n",
       "\t<tr><th scope=row>1</th><td> 2</td><td>500</td><td> 72</td></tr>\n",
       "\t<tr><th scope=row>2</th><td> 5</td><td>500</td><td>103</td></tr>\n",
       "\t<tr><th scope=row>3</th><td>10</td><td>500</td><td>180</td></tr>\n",
       "\t<tr><th scope=row>4</th><td>20</td><td>500</td><td>296</td></tr>\n",
       "\t<tr><th scope=row>5</th><td>25</td><td>500</td><td>406</td></tr>\n",
       "\t<tr><th scope=row>6</th><td>30</td><td>500</td><td>449</td></tr>\n",
       "</tbody>\n",
       "</table>\n"
      ],
      "text/latex": [
       "A data.frame: 6 × 3\n",
       "\\begin{tabular}{r|lll}\n",
       "  & x & n & y\\\\\n",
       "  & <dbl> & <dbl> & <dbl>\\\\\n",
       "\\hline\n",
       "\t1 &  2 & 500 &  72\\\\\n",
       "\t2 &  5 & 500 & 103\\\\\n",
       "\t3 & 10 & 500 & 180\\\\\n",
       "\t4 & 20 & 500 & 296\\\\\n",
       "\t5 & 25 & 500 & 406\\\\\n",
       "\t6 & 30 & 500 & 449\\\\\n",
       "\\end{tabular}\n"
      ],
      "text/markdown": [
       "\n",
       "A data.frame: 6 × 3\n",
       "\n",
       "| <!--/--> | x &lt;dbl&gt; | n &lt;dbl&gt; | y &lt;dbl&gt; |\n",
       "|---|---|---|---|\n",
       "| 1 |  2 | 500 |  72 |\n",
       "| 2 |  5 | 500 | 103 |\n",
       "| 3 | 10 | 500 | 180 |\n",
       "| 4 | 20 | 500 | 296 |\n",
       "| 5 | 25 | 500 | 406 |\n",
       "| 6 | 30 | 500 | 449 |\n",
       "\n"
      ],
      "text/plain": [
       "  x  n   y  \n",
       "1  2 500  72\n",
       "2  5 500 103\n",
       "3 10 500 180\n",
       "4 20 500 296\n",
       "5 25 500 406\n",
       "6 30 500 449"
      ]
     },
     "metadata": {},
     "output_type": "display_data"
    }
   ],
   "source": [
    "bottle <- data.frame(rbind(c(2,5,10,20,25,30), rep(500, 6), c(72,103,180,296,406,449)), row.names = c(\"x\",\"n\",\"y\"))\n",
    "colnames(bottle) <- seq(1,6)\n",
    "bottle <- data.frame(t(bottle))\n",
    "bottle"
   ]
  },
  {
   "cell_type": "code",
   "execution_count": 45,
   "id": "bd03ba0b-44c1-4fba-9ce1-9da1ca9377de",
   "metadata": {},
   "outputs": [
    {
     "data": {
      "text/plain": [
       "\n",
       "Call:\n",
       "glm(formula = k ~ bottle$x, family = binomial)\n",
       "\n",
       "Deviance Residuals: \n",
       "       1         2         3         4         5         6  \n",
       "-0.09855   0.14989   1.24780  -3.07327   1.19393   1.20074  \n",
       "\n",
       "Coefficients:\n",
       "             Estimate Std. Error z value Pr(>|z|)    \n",
       "(Intercept) -2.039332   0.084130  -24.24   <2e-16 ***\n",
       "bottle$x     0.134705   0.004753   28.34   <2e-16 ***\n",
       "---\n",
       "Signif. codes:  0 '***' 0.001 '**' 0.01 '*' 0.05 '.' 0.1 ' ' 1\n",
       "\n",
       "(Dispersion parameter for binomial family taken to be 1)\n",
       "\n",
       "    Null deviance: 1095.762  on 5  degrees of freedom\n",
       "Residual deviance:   13.901  on 4  degrees of freedom\n",
       "AIC: 55.165\n",
       "\n",
       "Number of Fisher Scoring iterations: 3\n"
      ]
     },
     "metadata": {},
     "output_type": "display_data"
    }
   ],
   "source": [
    "k <- cbind(bottle$y, bottle$n - bottle$y)\n",
    "summary(glm(k~bottle$x, family=binomial))"
   ]
  },
  {
   "cell_type": "code",
   "execution_count": 49,
   "id": "a1eed3bd-041a-42d5-a662-ed7bb513f8a0",
   "metadata": {},
   "outputs": [
    {
     "data": {
      "text/html": [
       "<style>\n",
       ".dl-inline {width: auto; margin:0; padding: 0}\n",
       ".dl-inline>dt, .dl-inline>dd {float: none; width: auto; display: inline-block}\n",
       ".dl-inline>dt::after {content: \":\\0020\"; padding-right: .5ex}\n",
       ".dl-inline>dt:not(:first-of-type) {padding-left: .5ex}\n",
       "</style><dl class=dl-inline><dt>1</dt><dd>0.146</dd><dt>2</dt><dd>0.203</dd><dt>3</dt><dd>0.334</dd><dt>4</dt><dd>0.658</dd><dt>5</dt><dd>0.791</dd><dt>6</dt><dd>0.881</dd></dl>\n"
      ],
      "text/latex": [
       "\\begin{description*}\n",
       "\\item[1] 0.146\n",
       "\\item[2] 0.203\n",
       "\\item[3] 0.334\n",
       "\\item[4] 0.658\n",
       "\\item[5] 0.791\n",
       "\\item[6] 0.881\n",
       "\\end{description*}\n"
      ],
      "text/markdown": [
       "1\n",
       ":   0.1462\n",
       ":   0.2033\n",
       ":   0.3344\n",
       ":   0.6585\n",
       ":   0.7916\n",
       ":   0.881\n",
       "\n"
      ],
      "text/plain": [
       "    1     2     3     4     5     6 \n",
       "0.146 0.203 0.334 0.658 0.791 0.881 "
      ]
     },
     "metadata": {},
     "output_type": "display_data"
    }
   ],
   "source": [
    "model.grouped <- glm(k~bottle$x, family=binomial)\n",
    "round(model.grouped$fitted.values,3)"
   ]
  },
  {
   "cell_type": "code",
   "execution_count": 50,
   "id": "2560a3c5-30c2-46f5-b56c-a27c182877c1",
   "metadata": {},
   "outputs": [],
   "source": [
    "toxicity <- data.frame(x=c(1,2,3,4,5,6), n=c(250,250,250,250,250,250), y=c(28,53,93,126,172,197))"
   ]
  },
  {
   "cell_type": "code",
   "execution_count": 54,
   "id": "14908d7f-5663-4709-8cc9-c9a12f24bd12",
   "metadata": {},
   "outputs": [
    {
     "name": "stderr",
     "output_type": "stream",
     "text": [
      "`geom_smooth()` using method = 'loess' and formula 'y ~ x'\n",
      "\n",
      "Warning message in simpleLoess(y, x, w, span, degree = degree, parametric = parametric, :\n",
      "\"Chernobyl! trL>n 6\"\n",
      "Warning message in simpleLoess(y, x, w, span, degree = degree, parametric = parametric, :\n",
      "\"Chernobyl! trL>n 6\"\n",
      "Warning message in sqrt(sum.squares/one.delta):\n",
      "\"NaNs üretimi\"\n",
      "Warning message in stats::qt(level/2 + 0.5, pred$df):\n",
      "\"NaNs produced\"\n",
      "Warning message in max(ids, na.rm = TRUE):\n",
      "\"max için eksik olmayan argüman yok; -Inf döndürülüyor\"\n"
     ]
    },
    {
     "data": {
      "image/png": "[encoded data removed]",
      "text/plain": [
       "plot without title"
      ]
     },
     "metadata": {
      "image/png": {
       "height": 480,
       "width": 900
      }
     },
     "output_type": "display_data"
    }
   ],
   "source": [
    "options(repr.plot.width=15, repr.plot.height=8)\n",
    "toxicity$p <- toxicity$y/toxicity$n\n",
    "toxicity %>% ggplot(aes(x,p)) + geom_point() + geom_smooth()"
   ]
  }
 ],
 "metadata": {
  "kernelspec": {
   "display_name": "R",
   "language": "R",
   "name": "ir"
  },
  "language_info": {
   "codemirror_mode": "r",
   "file_extension": ".r",
   "mimetype": "text/x-r-source",
   "name": "R",
   "pygments_lexer": "r",
   "version": "4.1.3"
  }
 },
 "nbformat": 4,
 "nbformat_minor": 5
}
