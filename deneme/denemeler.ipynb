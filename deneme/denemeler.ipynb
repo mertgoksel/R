{
 "cells": [
  {
   "cell_type": "code",
   "execution_count": 7,
   "id": "5555f681-ee71-45fe-aaa1-dc6c76d72e3a",
   "metadata": {},
   "outputs": [],
   "source": [
    "options(warn=-1)\n",
    "suppressPackageStartupMessages(library(ISLR2))\n",
    "suppressPackageStartupMessages(library(ISLR))\n",
    "suppressPackageStartupMessages(library(ggplot2))\n",
    "suppressPackageStartupMessages(library(car))\n",
    "suppressPackageStartupMessages(library(MASS))\n",
    "suppressPackageStartupMessages(library(corrplot))\n",
    "suppressPackageStartupMessages(library(gridExtra))\n",
    "suppressPackageStartupMessages(library(dplyr))\n",
    "suppressPackageStartupMessages(library(lmtest))\n",
    "suppressPackageStartupMessages(library(readxl))\n",
    "suppressPackageStartupMessages(library(MPV))\n",
    "suppressPackageStartupMessages(library(leaps))\n",
    "suppressPackageStartupMessages(library(olsrr))\n",
    "suppressPackageStartupMessages(library(caret))"
   ]
  },
  {
   "cell_type": "code",
   "execution_count": 2,
   "id": "1732a057-7539-4c64-8d3d-fdf2dad094b7",
   "metadata": {},
   "outputs": [],
   "source": [
    "df <- table.b1"
   ]
  },
  {
   "cell_type": "code",
   "execution_count": 11,
   "id": "4a7cd341-e0f0-4c4e-bcd9-60f89f49fdae",
   "metadata": {},
   "outputs": [],
   "source": [
    "model <- lm(y~., df)\n",
    "f_model <- ols_step_forward_p(model, penter=0.1)"
   ]
  },
  {
   "cell_type": "code",
   "execution_count": 12,
   "id": "dddddc05-a0ff-440c-a2e9-5bed406a5f4d",
   "metadata": {},
   "outputs": [
    {
     "data": {
      "text/plain": [
       "\n",
       "Call:\n",
       "lm(formula = paste(response, \"~\", paste(preds, collapse = \" + \")), \n",
       "    data = l)\n",
       "\n",
       "Coefficients:\n",
       "(Intercept)           x8           x2           x7  \n",
       "  -1.808372    -0.004815     0.003598     0.193960  \n"
      ]
     },
     "metadata": {},
     "output_type": "display_data"
    }
   ],
   "source": [
    "f_model$model"
   ]
  },
  {
   "cell_type": "code",
   "execution_count": 21,
   "id": "6fa0aa8b-88c9-487d-828b-bdcf6c99e9cf",
   "metadata": {},
   "outputs": [],
   "source": [
    "df <- MPV::table.b3"
   ]
  },
  {
   "cell_type": "code",
   "execution_count": 22,
   "id": "93515543-3204-4dc4-900b-ab4296088263",
   "metadata": {},
   "outputs": [],
   "source": [
    "model <- glm(x11~., df, family=\"binomial\")"
   ]
  },
  {
   "cell_type": "code",
   "execution_count": 23,
   "id": "19132e52-3dad-4ae6-bee1-5f0085f6675a",
   "metadata": {},
   "outputs": [
    {
     "data": {
      "text/plain": [
       "\n",
       "Call:\n",
       "glm(formula = x11 ~ ., family = \"binomial\", data = df)\n",
       "\n",
       "Deviance Residuals: \n",
       "       Min          1Q      Median          3Q         Max  \n",
       "-1.714e-05  -1.050e-08   2.110e-08   2.110e-08   1.873e-05  \n",
       "\n",
       "Coefficients:\n",
       "              Estimate Std. Error z value Pr(>|z|)\n",
       "(Intercept) -6.770e+01  8.871e+06       0        1\n",
       "y            7.990e+00  5.159e+04       0        1\n",
       "x1           1.968e+00  6.458e+03       0        1\n",
       "x2           1.041e+00  2.565e+04       0        1\n",
       "x3          -6.753e-01  1.950e+04       0        1\n",
       "x4          -4.845e+01  6.611e+05       0        1\n",
       "x5          -1.110e+01  1.053e+06       0        1\n",
       "x6          -4.015e+01  2.419e+05       0        1\n",
       "x7           4.876e+01  5.868e+05       0        1\n",
       "x8           9.478e-01  2.508e+04       0        1\n",
       "x9          -1.158e+00  1.062e+05       0        1\n",
       "x10         -9.259e-02  1.899e+03       0        1\n",
       "\n",
       "(Dispersion parameter for binomial family taken to be 1)\n",
       "\n",
       "    Null deviance: 3.4795e+01  on 29  degrees of freedom\n",
       "Residual deviance: 9.9970e-10  on 18  degrees of freedom\n",
       "  (2 observations deleted due to missingness)\n",
       "AIC: 24\n",
       "\n",
       "Number of Fisher Scoring iterations: 25\n"
      ]
     },
     "metadata": {},
     "output_type": "display_data"
    }
   ],
   "source": [
    "summary(model)"
   ]
  },
  {
   "cell_type": "code",
   "execution_count": 24,
   "id": "77262f25-1ed0-4d36-a1d0-81c2b1d2688e",
   "metadata": {},
   "outputs": [
    {
     "data": {
      "text/html": [
       "9.99698102021157e-10"
      ],
      "text/latex": [
       "9.99698102021157e-10"
      ],
      "text/markdown": [
       "9.99698102021157e-10"
      ],
      "text/plain": [
       "[1] 9.996981e-10"
      ]
     },
     "metadata": {},
     "output_type": "display_data"
    }
   ],
   "source": [
    "deviance(model) "
   ]
  },
  {
   "cell_type": "markdown",
   "id": "e1fa183f-3c7f-4046-bd8b-8dfd1725d7eb",
   "metadata": {},
   "source": [
    "$\\neq$"
   ]
  }
 ],
 "metadata": {
  "kernelspec": {
   "display_name": "R",
   "language": "R",
   "name": "ir"
  },
  "language_info": {
   "codemirror_mode": "r",
   "file_extension": ".r",
   "mimetype": "text/x-r-source",
   "name": "R",
   "pygments_lexer": "r",
   "version": "4.1.3"
  }
 },
 "nbformat": 4,
 "nbformat_minor": 5
}
