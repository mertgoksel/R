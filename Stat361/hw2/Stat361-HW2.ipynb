{
 "cells": [
  {
   "cell_type": "code",
   "execution_count": 1,
   "id": "8aa35b4e-a715-44bc-9bf8-37cd2ae02147",
   "metadata": {},
   "outputs": [],
   "source": [
    "set.seed(361)\n",
    "suppressPackageStartupMessages(library(tidyverse))\n",
    "options(scipen=99999)"
   ]
  },
  {
   "cell_type": "markdown",
   "id": "33b61619-d521-4e02-822e-3765e2f7272d",
   "metadata": {},
   "source": [
    "# Q1"
   ]
  },
  {
   "cell_type": "code",
   "execution_count": 2,
   "id": "90d4ee29-1a2a-4632-861c-2e98dd2e1e06",
   "metadata": {},
   "outputs": [
    {
     "data": {
      "text/html": [
       "0.703"
      ],
      "text/latex": [
       "0.703"
      ],
      "text/markdown": [
       "0.703"
      ],
      "text/plain": [
       "[1] 0.703"
      ]
     },
     "metadata": {},
     "output_type": "display_data"
    }
   ],
   "source": [
    "sum <- 0\n",
    "vec <- c()\n",
    "for(i in 1:1000){\n",
    "    sum <- sum + ifelse(runif(1) <= 0.7, 1, 0)\n",
    "    vec[i] <- sum/i\n",
    "}\n",
    "sum/1000"
   ]
  },
  {
   "cell_type": "code",
   "execution_count": 3,
   "id": "83e9d406-e7b7-41f2-a944-1ddafad1c349",
   "metadata": {},
   "outputs": [
    {
     "data": {
      "image/png": "[encoded data removed]",
      "text/plain": [
       "plot without title"
      ]
     },
     "metadata": {
      "image/png": {
       "height": 420,
       "width": 420
      }
     },
     "output_type": "display_data"
    }
   ],
   "source": [
    "plot(vec, type = \"l\", col = \"Blue\", xlab = \"Coin Toss Number\", ylab=\"Proportion of heads\")"
   ]
  },
  {
   "cell_type": "markdown",
   "id": "5191e33c-a221-4cd3-83b4-b8df89400978",
   "metadata": {},
   "source": [
    "# Q2"
   ]
  },
  {
   "cell_type": "code",
   "execution_count": 4,
   "id": "cdfd9519-71e3-41f8-9a1e-0cec5f9cc704",
   "metadata": {},
   "outputs": [],
   "source": [
    "n <- 10^5\n",
    "g <- function(x){\n",
    "    if(x>5) return(1)\n",
    "    else return(0)\n",
    "}\n",
    "k <- rgamma(n, 2, 1)\n",
    "estimate <- mean(sapply(k, g))"
   ]
  },
  {
   "cell_type": "code",
   "execution_count": 5,
   "id": "792ceb49-f1c2-4714-bc2a-4d47014c1ebf",
   "metadata": {},
   "outputs": [
    {
     "data": {
      "text/html": [
       "0.041"
      ],
      "text/latex": [
       "0.041"
      ],
      "text/markdown": [
       "0.041"
      ],
      "text/plain": [
       "[1] 0.041"
      ]
     },
     "metadata": {},
     "output_type": "display_data"
    }
   ],
   "source": [
    "estimate #near 0.04"
   ]
  },
  {
   "cell_type": "markdown",
   "id": "2ce9d485-8fbf-4f01-9cff-5aedfe0c2a35",
   "metadata": {},
   "source": [
    "$$\n",
    "f(x) = \\frac{xe^{-x}}{ \\int_{5}^{\\infty} xe^{-x} \\,dx } = \\frac{xe^{-x}}{0.04} = 25xe^{-x}\n",
    "$$"
   ]
  },
  {
   "cell_type": "markdown",
   "id": "2f3a0f36-88a2-4703-98de-c6fb34411f14",
   "metadata": {
    "tags": []
   },
   "source": [
    "$$\n",
    " \\Rightarrow f(x)/g(x) = \\frac{25xe^{-x}}{\\frac{1}{\\theta} e^{-\\frac{x}{\\theta}}} \\Rightarrow \\theta=2 \\Rightarrow 50xe^{-\\frac{x}{2}}\n",
    "$$"
   ]
  },
  {
   "cell_type": "markdown",
   "id": "9f236959-f673-43a3-9791-95794ce2c0d8",
   "metadata": {},
   "source": [
    "$$\n",
    "derivative \\Rightarrow 50e^{-\\frac{x}{2}}(1-\\frac{x}{2}) = 0 \n",
    "$$"
   ]
  },
  {
   "cell_type": "markdown",
   "id": "e87082f1-0e24-4be8-9466-e5d3141c0c72",
   "metadata": {},
   "source": [
    "$$\n",
    "\\Rightarrow x = 2\n",
    "$$"
   ]
  },
  {
   "cell_type": "code",
   "execution_count": 6,
   "id": "8b896869-31ef-46bd-b0e9-cbfeafe8a543",
   "metadata": {},
   "outputs": [],
   "source": [
    "f <- function(x){\n",
    "    1/0.04 * x * exp(-x)\n",
    "}\n",
    "\n",
    "g <- function(x, theta){\n",
    "    1/2*exp(-x*1/2)\n",
    "}\n",
    "\n",
    "c <- f(2)/g(2)"
   ]
  },
  {
   "cell_type": "code",
   "execution_count": 7,
   "id": "f17979bb-18fb-4b06-9b42-fb5f1b5bec83",
   "metadata": {},
   "outputs": [],
   "source": [
    "x <- c()\n",
    "\n",
    "for(i in 1:100){\n",
    "    repeat{\n",
    "        u <- runif(1)\n",
    "        repeat{\n",
    "            y <- rexp(1, 1/2) \n",
    "            if(y > 5) break\n",
    "        }\n",
    "        if(u <= f(y)/(c*g(y))) break\n",
    "    }\n",
    "    x[i] <- y\n",
    "}"
   ]
  },
  {
   "cell_type": "code",
   "execution_count": 13,
   "id": "8452adbb-e431-4d1e-aef7-52b0b7df44d5",
   "metadata": {},
   "outputs": [
    {
     "data": {
      "image/png": "[encoded data removed]",
      "text/plain": [
       "plot without title"
      ]
     },
     "metadata": {
      "image/png": {
       "height": 420,
       "width": 420
      }
     },
     "output_type": "display_data"
    }
   ],
   "source": [
    "data.frame(x = x) %>% ggplot(aes(x=x)) + geom_histogram(bins=12,color=\"black\", fill=\"red\", alpha=0.6)"
   ]
  },
  {
   "cell_type": "code",
   "execution_count": 10,
   "id": "430cf5e6-18b0-4b8d-90bc-670759dc86b9",
   "metadata": {},
   "outputs": [],
   "source": [
    "k <- c()\n",
    "for(i in 1:1000){\n",
    "    repeat{\n",
    "        b <- rgamma(1, 2, 1)\n",
    "        if(b > 5) break\n",
    "    }\n",
    "    k[i] <- b\n",
    "}"
   ]
  },
  {
   "cell_type": "code",
   "execution_count": 12,
   "id": "ac27ed32-01ee-4954-9871-38d99dd6d158",
   "metadata": {},
   "outputs": [
    {
     "data": {
      "image/png": "[encoded data removed]",
      "text/plain": [
       "plot without title"
      ]
     },
     "metadata": {
      "image/png": {
       "height": 420,
       "width": 420
      }
     },
     "output_type": "display_data"
    }
   ],
   "source": [
    "data.frame(x = k) %>% ggplot(aes(x=x)) + geom_histogram(bins=12,color=\"black\", fill=\"red\", alpha=0.6)"
   ]
  },
  {
   "cell_type": "markdown",
   "id": "39fe88b2-39b9-43da-9d14-29b9cfc24a77",
   "metadata": {},
   "source": [
    "they are basically the same."
   ]
  },
  {
   "cell_type": "markdown",
   "id": "4b0770d5-21c6-4903-9466-cc8a326a4bb4",
   "metadata": {},
   "source": [
    "# Q3"
   ]
  },
  {
   "cell_type": "code",
   "execution_count": 11,
   "id": "1d7cdd50-ddf4-48fb-838e-f3ad4e40ed21",
   "metadata": {},
   "outputs": [],
   "source": [
    "f <- function(x, mu, s){\n",
    "    1/(pi*s*(1+((x-mu)/s)^2))\n",
    "}\n",
    "\n",
    "mu <- -2\n",
    "s <- 4\n",
    "p1 <- 0.9; p2 <- 3\n",
    "\n",
    "n <- 10**5\n",
    "\n",
    "g1 <- function(x, p1){\n",
    "    if(x < p1) return(1)\n",
    "    else return(0)\n",
    "}\n",
    "\n",
    "g2 <- function(x, p2){\n",
    "    if(x > p2) return(1)\n",
    "    else return(0)\n",
    "}\n",
    "\n",
    "x <- rcauchy(n, mu, s)\n",
    "\n",
    "prob1 <- mean(sapply(x, g1, p1))\n",
    "prob2 <- mean(sapply(x, g2, p2))\n",
    "\n",
    "est <- prob1 + prob2"
   ]
  },
  {
   "cell_type": "code",
   "execution_count": 12,
   "id": "547cb193-914f-43ea-837f-a7878b7f36a4",
   "metadata": {},
   "outputs": [
    {
     "data": {
      "text/html": [
       "0.91474"
      ],
      "text/latex": [
       "0.91474"
      ],
      "text/markdown": [
       "0.91474"
      ],
      "text/plain": [
       "[1] 0.91474"
      ]
     },
     "metadata": {},
     "output_type": "display_data"
    }
   ],
   "source": [
    "est"
   ]
  },
  {
   "cell_type": "code",
   "execution_count": 13,
   "id": "8277f728-1465-4c8e-8b86-3c8fd82309b5",
   "metadata": {},
   "outputs": [
    {
     "data": {
      "text/html": [
       "0.0779915123151229"
      ],
      "text/latex": [
       "0.0779915123151229"
      ],
      "text/markdown": [
       "0.0779915123151229"
      ],
      "text/plain": [
       "[1] 0.07799151"
      ]
     },
     "metadata": {},
     "output_type": "display_data"
    }
   ],
   "source": [
    "var(sapply(x, g1, p1)) + var(sapply(x, g2, p2)) + 2*cov(sapply(x, g1, p1), sapply(x, g2, p2))"
   ]
  },
  {
   "cell_type": "markdown",
   "id": "f7af77b3-fabc-4503-9719-764dd0313eed",
   "metadata": {},
   "source": [
    "# Q4"
   ]
  },
  {
   "cell_type": "code",
   "execution_count": 14,
   "id": "b63e360b-2d6d-473d-85e5-3f4ef014778a",
   "metadata": {},
   "outputs": [],
   "source": [
    "f <- function(u){\n",
    "    (k/4) * (u/4)**(1-1) * exp((-u/4)**1)\n",
    "}\n",
    "n <- 10**5\n",
    "k <- 1; lambda <- 4"
   ]
  },
  {
   "cell_type": "code",
   "execution_count": 15,
   "id": "4e1ebbbc-68d2-4096-b9c4-8eb2cf829f34",
   "metadata": {},
   "outputs": [
    {
     "name": "stdout",
     "output_type": "stream",
     "text": [
      "Estimate: 0.2014403 , Var of estimate:  0.0001702699"
     ]
    }
   ],
   "source": [
    "u <- runif(n, 0, 0.9)\n",
    "\n",
    "estimate <- mean(f(u))*(0.9)\n",
    "\n",
    "var.estimate <- var(f(u))*(0.9)**2\n",
    "\n",
    "cat(\"Estimate:\", estimate, \", Var of estimate: \", var.estimate)"
   ]
  },
  {
   "cell_type": "code",
   "execution_count": 16,
   "id": "abfce1e3-de41-4075-b2f4-0e1221700384",
   "metadata": {},
   "outputs": [
    {
     "name": "stdout",
     "output_type": "stream",
     "text": [
      "Antithetic Estimate: 0.2014842 , Var of estimate:  0.0000001438272"
     ]
    }
   ],
   "source": [
    "x <- runif(n/2, 0, 0.9)\n",
    "y <- 0.9-x\n",
    "\n",
    "z1 <- f(x)\n",
    "z2 <- f(y)\n",
    "\n",
    "ant <- (z1+z2)/2\n",
    "\n",
    "ant.est <- mean(ant)*(0.9)\n",
    "var.ant.est <- var(ant)*(0.9)**2\n",
    "cat(\"Antithetic Estimate:\", ant.est, \", Var of estimate: \", var.ant.est)"
   ]
  },
  {
   "cell_type": "code",
   "execution_count": 17,
   "id": "dcd5f3ae-78a5-4f43-b58f-3a9d0073bdd0",
   "metadata": {},
   "outputs": [
    {
     "name": "stdout",
     "output_type": "stream",
     "text": [
      "Control variate Estimate: 0.2014864 , Var of estimate:  0.00001534617"
     ]
    }
   ],
   "source": [
    "u <- runif(n, 0, 0.9)\n",
    "\n",
    "estimate <- mean(f(u))*(0.9)\n",
    "\n",
    "g <- function(u) u*exp(-u)\n",
    "\n",
    "c_star <- -cov(f(u), g(u))/var(g(u))\n",
    "\n",
    "term <- g(u) - (1/0.9)*integrate(g, 0, 0.9)$value\n",
    "\n",
    "cont.est <- mean(f(u) + c_star * term)*(0.9)\n",
    "\n",
    "var.cont.est <- var(f(u) + c_star * (g(u) - 1/0.9*integrate(g, 0,0.9)$value))\n",
    "\n",
    "cat(\"Control variate Estimate:\", cont.est, \", Var of estimate: \", var.cont.est)"
   ]
  },
  {
   "cell_type": "code",
   "execution_count": 18,
   "id": "1c276c66-af01-4747-bd1f-7371a3d24ff4",
   "metadata": {},
   "outputs": [
    {
     "name": "stdout",
     "output_type": "stream",
     "text": [
      "Variance reduction for antithetic (%): 99.91553 \n",
      " Variance reduction for control variate (%) 90.98715"
     ]
    }
   ],
   "source": [
    "cat(\"Variance reduction for antithetic (%):\", 100*(var.estimate-var.ant.est)/var.estimate,\n",
    "   \"\\nVariance reduction for control variate (%)\", 100*(var.estimate-var.cont.est)/var.estimate)"
   ]
  },
  {
   "cell_type": "markdown",
   "id": "ca51f090-3580-40a1-9597-0fdb4c6808c8",
   "metadata": {},
   "source": [
    "Since the variance of antithetic method is lower we have to choose that one."
   ]
  },
  {
   "cell_type": "markdown",
   "id": "f03814e2-bfa0-4ae8-b2bc-f7dae758d664",
   "metadata": {},
   "source": [
    "# Q5"
   ]
  },
  {
   "cell_type": "code",
   "execution_count": 14,
   "id": "9640069e-53d5-4b8f-826b-f77b38173c5b",
   "metadata": {},
   "outputs": [],
   "source": [
    "f <- function(f, a = -Inf, b = Inf, var.reduc = FALSE, type = NULL, g=NULL, plot=FALSE){\n",
    "    n <- 10**5\n",
    "    if(var.reduc == FALSE){\n",
    "        if(a == -Inf & b == Inf){\n",
    "            x <- rnorm(n)\n",
    "            estimate <- mean(sapply(x, f))\n",
    "            var.est <- var(sapply(x, f))\n",
    "        } else if(a != -Inf & b == Inf){\n",
    "            g <- function(x, p1){\n",
    "                if(x > p1) return(1)\n",
    "                else return(0)\n",
    "            }\n",
    "            x <- rnorm(n)\n",
    "            estimate <- mean(sapply(f(x),g,a))\n",
    "            var.est <- var(sapply(f(x),g,a))\n",
    "        } else if(a == -Inf & b != Inf){\n",
    "            g <- function(x, p1){\n",
    "                if(x < p1) return(1)\n",
    "                else return(0)\n",
    "            }\n",
    "            x <- rnorm(n)\n",
    "            estimate <- mean(sapply(f(x),g,b))\n",
    "            var.est <- var(sapply(f(x),g,b))\n",
    "        } else{\n",
    "            x <- runif(n/2, a, b)\n",
    "            estimate <- (b-a)*mean(sapply(x, f))\n",
    "            var.est <- var(sapply(x, f))\n",
    "        }\n",
    "        cat(\"Our estimate:\",estimate,\"\\n Estimate variance:\", var.est)\n",
    "    }else if(var.reduc == TRUE & type ==\"Antithetic\"){\n",
    "        if(a == -Inf & b == Inf){\n",
    "            cat(\"Changing both a,b to 100 as its not possible to use inf with antithetic variables.\\n\")\n",
    "            a <- -100\n",
    "            b <- 100\n",
    "        } else if(a != -Inf & b == Inf){\n",
    "            cat(\"Changing b to 100 as its not possible to use inf with antithetic variables.\\n\")\n",
    "            b <- 100\n",
    "        } else if(a == -Inf & b != Inf){\n",
    "            cat(\"Changing a to 100 as its not possible to use inf with antithetic variables.\\n\")\n",
    "            a <- -100\n",
    "        } #since 100 is big enough to cover a very large portion of every pdf or function if convergent. \n",
    "        u <- runif(n/2, a, b)\n",
    "        x <- f(u)\n",
    "        y <- f(b-u)\n",
    "\n",
    "        estimate <- mean(x)*(b-a)\n",
    "        var.est <- var(x)\n",
    "\n",
    "        antithetic <- (x+y)/2\n",
    "        ant.estimate <- mean(antithetic)*(b-a)\n",
    "        var.ant <- var(antithetic)\n",
    "\n",
    "        var_reduction <- 100*((var.est-var.ant)/var.est)\n",
    "        cat(\"Our estimate:\",estimate,\"\\nEstimate variance:\",var.est,\"\\nOur antithetic estimate:\",ant.estimate,\"\\nAntithetic estimate variance:\", var.ant, \"\\nAntithetic estimation achieved \",var_reduction,\"% reduction in variance\")\n",
    "    } else if(var.reduc == TRUE & type ==\"Control\" & typeof(g) == \"closure\"){\n",
    "        if(a == -Inf & b == Inf){\n",
    "            x <- rnorm(n)\n",
    "            estimate <- mean(sapply(x, f))\n",
    "            var.est <- var(sapply(x, f))\n",
    "        } else if(a != -Inf & b == Inf){\n",
    "            g <- function(x, p1){\n",
    "                if(x > p1) return(1)\n",
    "                else return(0)\n",
    "            }\n",
    "            x <- rnorm(n)\n",
    "            estimate <- mean(sapply(f(x),g,a))\n",
    "            var.est <- var(sapply(f(x),g,a))\n",
    "        } else if(a == -Inf & b != Inf){\n",
    "            g <- function(x, p1){\n",
    "                if(x < p1) return(1)\n",
    "                else return(0)\n",
    "            }\n",
    "            x <- rnorm(n)\n",
    "            estimate <- mean(sapply(f(x),g,b))\n",
    "            var.est <- var(sapply(f(x),g,b))\n",
    "        } else{\n",
    "            x <- runif(n/2, a, b)\n",
    "            estimate <- (b-a)*mean(sapply(x, f))\n",
    "            var.est <- var(sapply(x, f))\n",
    "        }\n",
    "            \n",
    "        if(a == -Inf | b == Inf){\n",
    "            return(\"Limits cannot be infinite when 'Control' type is used\")\n",
    "        }\n",
    "        \n",
    "        x <- runif(n, a, b)\n",
    "\n",
    "        if(cor(f(x),g(x)) < 0.5){\n",
    "            return(\"Correlation is lower than 0.5, use another g function.\")\n",
    "        } else if(cor(f(x),g(x)) >= 0.5) cat(\"Correlation between f and g is\", cor(f(x),g(x)), \"\\n\")\n",
    "\n",
    "        c_star <- -cov(f(x),g(x)) / var(g(x))\n",
    "\n",
    "        control.estimate = mean(f(x) + c_star * (g(x) - (1/(b-a))*integrate(g, a, b)$value))*(b-a)\n",
    "\n",
    "        var.cont.est <- var(f(x) + c_star * (g(x) - integrate(g, a, b)$value))\n",
    "        \n",
    "        var_reduction <- 100*(var.est-var.cont.est)/var.est\n",
    "        \n",
    "        cat(\"Our estimate:\",estimate,\"\\nEstimate variance:\",var.est,\"\\nOur control estimate:\",control.estimate,\"\\nControl estimate variance:\", var.cont.est, \"\\nControl variates achieved \",var_reduction,\"% reduction in variance\")\n",
    "    }\n",
    "    if(plot){\n",
    "        if(a == -Inf) a <- -5\n",
    "        if(b == Inf) b <- 5\n",
    "        ggplot(data = data.frame(x = 0), mapping = aes(x = x)) + stat_function(fun = f) + geom_area(stat=\"function\", fun=f, xlim=c(a, b), fill = \"red\", alpha=.6)\n",
    "    }\n",
    "}"
   ]
  },
  {
   "cell_type": "code",
   "execution_count": 15,
   "id": "904cdbea-e6ae-4447-8b35-8a9cf70bde5c",
   "metadata": {},
   "outputs": [
    {
     "name": "stdout",
     "output_type": "stream",
     "text": [
      "Correlation between f and g is 1 \n",
      "Our estimate: 1.914857 \n",
      "Estimate variance: 0.05205438 \n",
      "Our control estimate: 1.919145 \n",
      "Control estimate variance: 0 \n",
      "Control variates achieved  100 % reduction in variance"
     ]
    },
    {
     "data": {
      "image/png": "[encoded data removed]",
      "text/plain": [
       "plot without title"
      ]
     },
     "metadata": {
      "image/png": {
       "height": 420,
       "width": 420
      }
     },
     "output_type": "display_data"
    }
   ],
   "source": [
    "f(\\(x) 2*x*exp(-x), a=0, b=5, var.reduc=TRUE, type=\"Control\", plot=TRUE, g=\\(x) x*exp(-x))"
   ]
  },
  {
   "cell_type": "code",
   "execution_count": 16,
   "id": "f54f5c21-98f6-40cf-a30d-0acbcbe96dc5",
   "metadata": {},
   "outputs": [
    {
     "data": {
      "text/plain": [
       "1.919145 with absolute error < 0.000000000000021"
      ]
     },
     "metadata": {},
     "output_type": "display_data"
    }
   ],
   "source": [
    "integrate(\\(x) 2*x*exp(-x), 0, 5)"
   ]
  },
  {
   "cell_type": "code",
   "execution_count": 17,
   "id": "c4f9e523-8eb5-473e-9401-ccbe9f9b8bc2",
   "metadata": {},
   "outputs": [
    {
     "name": "stdout",
     "output_type": "stream",
     "text": [
      "Changing b to 100 as its not possible to use inf with antithetic variables.\n",
      "Our estimate: 9994.2 \n",
      "Estimate variance: 3332.08 \n",
      "Our antithetic estimate: 10000 \n",
      "Antithetic estimate variance: 0 \n",
      "Antithetic estimation achieved  100 % reduction in variance"
     ]
    },
    {
     "data": {
      "image/png": "[encoded data removed]",
      "text/plain": [
       "plot without title"
      ]
     },
     "metadata": {
      "image/png": {
       "height": 420,
       "width": 420
      }
     },
     "output_type": "display_data"
    }
   ],
   "source": [
    "f(\\(x) 2*x, a=0, b=Inf, var.reduc=TRUE, type=\"Antithetic\", plot=TRUE, g=\\(x) x)"
   ]
  },
  {
   "cell_type": "code",
   "execution_count": 19,
   "id": "dbd5e875-b19c-454a-986c-1c40fb196caa",
   "metadata": {},
   "outputs": [
    {
     "data": {
      "text/plain": [
       "10000 with absolute error < 0.00000000011"
      ]
     },
     "metadata": {},
     "output_type": "display_data"
    }
   ],
   "source": [
    "integrate(\\(x) 2*x, 0, 100)"
   ]
  },
  {
   "cell_type": "code",
   "execution_count": 18,
   "id": "e38a9bdb-f2fd-4b9b-bf93-7a57e6bf17d9",
   "metadata": {},
   "outputs": [
    {
     "name": "stdout",
     "output_type": "stream",
     "text": [
      "Our estimate: 9.585356 \n",
      " Estimate variance: 0.8223408"
     ]
    },
    {
     "data": {
      "image/png": "[encoded data removed]",
      "text/plain": [
       "plot without title"
      ]
     },
     "metadata": {
      "image/png": {
       "height": 420,
       "width": 420
      }
     },
     "output_type": "display_data"
    }
   ],
   "source": [
    "f(\\(x) sqrt(x*sqrt(x)), a=0, b=5, var.reduc=FALSE, plot=TRUE)"
   ]
  },
  {
   "cell_type": "code",
   "execution_count": 20,
   "id": "9ba7d510-24d0-445e-8724-ececb4b7f03b",
   "metadata": {},
   "outputs": [
    {
     "data": {
      "text/plain": [
       "9.553434 with absolute error < 0.00056"
      ]
     },
     "metadata": {},
     "output_type": "display_data"
    }
   ],
   "source": [
    "integrate(\\(x) sqrt(x*sqrt(x)), 0, 5)"
   ]
  }
 ],
 "metadata": {
  "authors": [
   {
    "name": "Mert Göksel"
   },
   {
    "name": "Bilge Özkır"
   }
  ],
  "kernelspec": {
   "display_name": "R",
   "language": "R",
   "name": "ir"
  },
  "language_info": {
   "codemirror_mode": "r",
   "file_extension": ".r",
   "mimetype": "text/x-r-source",
   "name": "R",
   "pygments_lexer": "r",
   "version": "4.1.3"
  }
 },
 "nbformat": 4,
 "nbformat_minor": 5
}
