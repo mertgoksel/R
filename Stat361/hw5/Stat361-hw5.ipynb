{
  "cells": [
    {
      "cell_type": "raw",
      "metadata": {},
      "source": [
        "---\n",
        "title: Stat 361 - hw5\n",
        "format: pdf\n",
        "editor: visual\n",
        "author:\n",
        "  - Mert Göksel\n",
        "  - Bilge Özkır\n",
        "---"
      ],
      "id": "dbcf90a5"
    },
    {
      "cell_type": "code",
      "metadata": {},
      "source": [
        "set.seed(361)\n",
        "library(tidyverse)\n",
        "options(scipen=9999)"
      ],
      "id": "02aea09d",
      "execution_count": null,
      "outputs": []
    },
    {
      "cell_type": "markdown",
      "metadata": {},
      "source": [
        "# Q1\n",
        "\n",
        "## Part B"
      ],
      "id": "9e810b65"
    },
    {
      "cell_type": "code",
      "metadata": {},
      "source": [
        "df <- sample(ToothGrowth)\n",
        "\n",
        "sturges <- function(x){\n",
        "    n <- length(x)\n",
        "    nclass <- ceiling(1 + log2(n))\n",
        "    cwidth <- diff(range(x) / nclass) \n",
        "    breaks <- min(x) + cwidth * 0:nclass\n",
        "    return(list(nclass = nclass, cwidth = cwidth, breaks = breaks))\n",
        "}\n",
        "\n",
        "x <- df %>% filter(supp == \"VC\") %>% select(len) %>% unlist()\n",
        "z1 <- seq(min(x) - sturges(x)$cwidth, \n",
        "          max(x) + sturges(x)$cwidth, 0.01)\n",
        "\n",
        "h.sturges <- hist(x, breaks = sturges(x)$breaks, \n",
        "                  prob = T, main = \"Sturges Rule n=30\")"
      ],
      "id": "f11f64f6",
      "execution_count": null,
      "outputs": []
    },
    {
      "cell_type": "markdown",
      "metadata": {},
      "source": [
        "## Part C\n"
      ],
      "id": "9ed90fd6"
    },
    {
      "cell_type": "code",
      "metadata": {},
      "source": [
        "scotts <- function(x){\n",
        "    n <- length(x)\n",
        "    h <- 3.5 * sd(x) * n^(-1/3)\n",
        "    nclass <- ceiling(diff(range(x)) / h)\n",
        "    breaks <- min(x) + h * 0:nclass\n",
        "    return(list(nclass = nclass, h = h, breaks = breaks))\n",
        "}\n",
        "\n",
        "h.scotts <- hist(x, breaks = scotts(x)$breaks, \n",
        "                  prob = T, main = \"Scotts\")"
      ],
      "id": "934917a7",
      "execution_count": null,
      "outputs": []
    },
    {
      "cell_type": "markdown",
      "metadata": {},
      "source": [
        "## Part D"
      ],
      "id": "55f9c78b"
    },
    {
      "cell_type": "code",
      "metadata": {},
      "source": [
        "FD <- function(x){\n",
        "    n <- length(x)\n",
        "    h <- 2 * IQR(x) * n^(-1/3)\n",
        "    nclass <- ceiling(diff(range(x)) / h)\n",
        "    breaks <- min(x) + h * 0:nclass\n",
        "    return(list(nclass = nclass, h = h, breaks = breaks))\n",
        "}\n",
        "\n",
        "h.df <- hist(x, breaks = FD(x)$breaks, \n",
        "                  prob = T, main = \"FD\")"
      ],
      "id": "a97c720a",
      "execution_count": null,
      "outputs": []
    },
    {
      "cell_type": "markdown",
      "metadata": {},
      "source": [
        "## Part E"
      ],
      "id": "5c491abb"
    },
    {
      "cell_type": "code",
      "metadata": {},
      "source": [
        "freq_poly <- function(x){\n",
        "    n <- length(x)\n",
        "    h <- 2.15 * sd(x) * n^(-1/5)\n",
        "    br <- pretty(x, diff(range(x)) / h)\n",
        "    brplus <- c(min(br)-h, max(br)+h)\n",
        "    return(list(brplus = brplus, h = h, breaks = br))\n",
        "}\n",
        "\n",
        "h.freqpoly <- hist(x, breaks = freq_poly(x)$breaks, \n",
        "                  prob = T, main = \"freq_poly\")"
      ],
      "id": "7cb9fa07",
      "execution_count": null,
      "outputs": []
    },
    {
      "cell_type": "markdown",
      "metadata": {},
      "source": [
        "## Part F"
      ],
      "id": "b51f4d85"
    },
    {
      "cell_type": "code",
      "metadata": {},
      "source": [
        "plot(density(x, bw=min(sd(x), IQR(x)/1.34), kernel='epanechnikov'))\n",
        "abline(v=11.2, h=0.02977) #approx 0.02977"
      ],
      "id": "0e5051ef",
      "execution_count": null,
      "outputs": []
    },
    {
      "cell_type": "code",
      "metadata": {},
      "source": [
        "plot(density(x, bw=min(sd(x), IQR(x)/1.34), kernel='biweight'))\n",
        "abline(v=11.2, h=0.03) # approx 0.03 "
      ],
      "id": "897a0c4d",
      "execution_count": null,
      "outputs": []
    },
    {
      "cell_type": "markdown",
      "metadata": {},
      "source": [
        "## Part G"
      ],
      "id": "f83391ad"
    },
    {
      "cell_type": "code",
      "metadata": {},
      "source": [
        "hist(x, prob = T, main = \"freq_poly\")\n",
        "abline(v=7.2, col='red') #2nd\n",
        "\n",
        "hist(x, breaks = sturges(x)$breaks, \n",
        "                  prob = T, main = \"freq_poly\")\n",
        "abline(v=7.2, col='red') #1st\n",
        "\n",
        "hist(x, breaks = scotts(x)$breaks, \n",
        "                  prob = T, main = \"freq_poly\")\n",
        "abline(v=7.2, col='red') #1st\n",
        "\n",
        "hist(x, breaks = FD(x)$breaks, \n",
        "                  prob = T, main = \"freq_poly\")\n",
        "abline(v=7.2, col='red') #1st"
      ],
      "id": "8a4693b5",
      "execution_count": null,
      "outputs": []
    }
  ],
  "metadata": {
    "kernelspec": {
      "name": "ir",
      "language": "R",
      "display_name": "R"
    }
  },
  "nbformat": 4,
  "nbformat_minor": 5
}