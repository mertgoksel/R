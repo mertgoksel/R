{
 "cells": [
  {
   "cell_type": "markdown",
   "id": "080558c3-14b8-4508-979e-191d22db79c7",
   "metadata": {},
   "source": [
    "# Q1"
   ]
  },
  {
   "cell_type": "markdown",
   "id": "c683fb4b-1d66-4d4f-ba16-9fccc8e35d40",
   "metadata": {},
   "source": [
    "This experiment is of binomial distribution"
   ]
  },
  {
   "cell_type": "code",
   "execution_count": 1,
   "id": "0556a41d-0803-41ff-948f-656657439161",
   "metadata": {},
   "outputs": [],
   "source": []
  },
  {
   "cell_type": "code",
   "execution_count": 2,
   "id": "c2cef906-a689-4a7d-865b-78f223707df0",
   "metadata": {},
   "outputs": [
    {
     "ename": "ERROR",
     "evalue": "Error in eval(expr, envir, enclos): 'N' nesnesi bulunamadı\n",
     "output_type": "error",
     "traceback": [
      "Error in eval(expr, envir, enclos): 'N' nesnesi bulunamadı\nTraceback:\n"
     ]
    }
   ],
   "source": []
  },
  {
   "cell_type": "code",
   "execution_count": null,
   "id": "c6930ea7-f058-4720-aefa-2ada2daedf96",
   "metadata": {},
   "outputs": [],
   "source": []
  }
 ],
 "metadata": {
  "authors": [
   {
    "name": "Mert Göksel"
   },
   {
    "name": "Bilge Özkır"
   }
  ],
  "kernelspec": {
   "display_name": "R",
   "language": "R",
   "name": "ir"
  },
  "language_info": {
   "codemirror_mode": "r",
   "file_extension": ".r",
   "mimetype": "text/x-r-source",
   "name": "R",
   "pygments_lexer": "r",
   "version": "4.1.3"
  }
 },
 "nbformat": 4,
 "nbformat_minor": 5
}
