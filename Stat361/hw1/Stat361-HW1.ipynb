{
 "cells": [
  {
   "cell_type": "code",
   "execution_count": 2,
   "id": "c3e2e4dc-c419-4815-a4c7-fa2e65706024",
   "metadata": {},
   "outputs": [],
   "source": [
    "library(ggplot2)\n",
    "set.seed(361)"
   ]
  },
  {
   "cell_type": "markdown",
   "id": "a9eb2608-39dc-4091-9ea3-aa9688794ce6",
   "metadata": {},
   "source": [
    "# Q1"
   ]
  },
  {
   "cell_type": "code",
   "execution_count": 36,
   "id": "e88f2a99-574e-4341-a9ad-cff65d2c4b01",
   "metadata": {},
   "outputs": [],
   "source": [
    "n <- 10^5\n",
    "f <- function(x){\n",
    "  (2/sqrt(2*pi)) * exp(-(x^2/2))\n",
    "}"
   ]
  },
  {
   "cell_type": "markdown",
   "id": "e1aa66c5-e206-4b7a-82ee-c60d76abb081",
   "metadata": {},
   "source": [
    "We cannot integrate normal distribution with $\\mu = 0,\\;\\sigma$ thus we cannot apply inverse transformation method. \n",
    "\n",
    "Reasoning:"
   ]
  },
  {
   "cell_type": "markdown",
   "id": "eebf89be-c6eb-40af-a1dd-60fb7307c08b",
   "metadata": {},
   "source": [
    "$$\n",
    "\\begin{split}\n",
    "Inverse\\;Transform\\;Method\\Rightarrow F(x)=u\\sim Uniform(0,\\;1)\\\\\n",
    "\\Rightarrow F^{-1}(u)=x\\sim f(x)\n",
    "\\end{split}\n",
    "$$"
   ]
  },
  {
   "cell_type": "markdown",
   "id": "dc445e52-5f75-4f74-83c6-cfcd64f56e35",
   "metadata": {},
   "source": [
    "Inorder to achieve this notation we need the cdf of x. If the cdf cannot be derived then inverse transform method would not work. \n",
    "\n",
    "We do not have the cdf and cannot get it thus this method cannot be used to create the sample. \n",
    "\n",
    "## Part B"
   ]
  },
  {
   "cell_type": "code",
   "execution_count": 37,
   "id": "0a2b0eb3-b6e5-4fda-9712-926e6094a918",
   "metadata": {},
   "outputs": [],
   "source": [
    "g <- function(x){\n",
    "  sqrt(2*exp(1) / pi) * exp(-x)\n",
    "}"
   ]
  },
  {
   "cell_type": "markdown",
   "id": "ca3fa1ff-3a80-4891-9b62-10fbd01099cc",
   "metadata": {},
   "source": [
    "We need to find the M value as in the $\\frac{f(x)}{M.g(x)}$ and we find it via getting the derivative by hand and equiating it to 0 to get the max value. "
   ]
  },
  {
   "cell_type": "markdown",
   "id": "8b9c1bce-d819-407f-9e11-633fa6e58b87",
   "metadata": {},
   "source": [
    "$$\n",
    "\\begin{split}\n",
    "f(x)&=\\frac{2}{\\sqrt{2\\pi}}e^{-\\frac{x^2}{2}}\\\\\n",
    "g(x)&=\\sqrt{\\frac{2e}{\\pi}}e^{-x}\\\\\n",
    "\\frac{f(x)}{g(x)}&=\\frac{\\frac{2}{\\sqrt{2\\pi}}e^{-\\frac{x^2}{2}}}{\\sqrt{\\frac{2e}{\\pi}}e^{-x}}=\\frac{\\sqrt{\\frac{4}{2\\pi}}}{\\sqrt{\\frac{2e}{\\pi}}}e^{x-\\frac{x^2}{2}}=\\sqrt{\\frac{1}{e}}e^{\\frac{2x-x^2}{2}}=e^{\\frac{2x-x^2-1}{2}}\\\\\n",
    "\\end{split}\n",
    "$$"
   ]
  },
  {
   "cell_type": "markdown",
   "id": "6ea2a4e8-7718-4c89-9149-14f25e998510",
   "metadata": {},
   "source": [
    "Take logarithm to make derivation easier."
   ]
  },
  {
   "cell_type": "markdown",
   "id": "733e8cff-9873-46bb-8f64-ae6894109d93",
   "metadata": {},
   "source": [
    "$$\n",
    "\\begin{split}\n",
    "ln(\\frac{f(x)}{g(x)})&=-\\frac{x^2-2x+1}{2}\\\\\n",
    "Derivative&\\Rightarrow 1-x=0\\\\\n",
    "&\\Rightarrow x=1\n",
    "\\end{split}\n",
    "$$"
   ]
  },
  {
   "cell_type": "markdown",
   "id": "60c5a2e9-e720-48ca-8a5f-243e198564df",
   "metadata": {},
   "source": [
    "Thus our $M=f(1)/g(1)$"
   ]
  },
  {
   "cell_type": "code",
   "execution_count": 38,
   "id": "2dcd66b1-293b-47c2-aace-e20dc14a50b4",
   "metadata": {},
   "outputs": [],
   "source": [
    "M <- f(1)/g(1)"
   ]
  },
  {
   "cell_type": "markdown",
   "id": "5720be1b-3746-4a75-a824-5898283f3019",
   "metadata": {},
   "source": [
    "Now we can create the function"
   ]
  },
  {
   "cell_type": "code",
   "execution_count": 39,
   "id": "5de8a995-70f8-4139-8ca0-87804bd369da",
   "metadata": {},
   "outputs": [],
   "source": [
    "q1 <- function(n,f,g,M){\n",
    "    sample <- c()\n",
    "    for(i in 1:n){\n",
    "      repeat{\n",
    "        y <- rexp(1)\n",
    "        u <- runif(1)\n",
    "        if(u <= f(y)/(M*g(y))) break # if accepted, break.\n",
    "      } \n",
    "      sample[i] <- y # assign the accepted.\n",
    "    }\n",
    "    return(sample)\n",
    "}"
   ]
  },
  {
   "cell_type": "code",
   "execution_count": 40,
   "id": "f9c986dc-2f6b-483b-a2ff-64b7b2bb1a81",
   "metadata": {},
   "outputs": [],
   "source": [
    "sample <- q1(n,f,g,M)"
   ]
  },
  {
   "cell_type": "markdown",
   "id": "af04174b-7c38-4f3f-869c-0d7f8a6a1a92",
   "metadata": {},
   "source": [
    "Lets see if plots match"
   ]
  },
  {
   "cell_type": "code",
   "execution_count": null,
   "id": "dad7f613-d7fb-413b-8045-17fb742e95b7",
   "metadata": {},
   "outputs": [],
   "source": [
    "a <- rnorm(1000000)\n",
    "a <- a[a>=0]\n",
    "hist(sample, freq = 0)\n",
    "lines(a, f(a))"
   ]
  },
  {
   "cell_type": "markdown",
   "id": "90ac553f-16b7-44fa-8094-6da86662a9b2",
   "metadata": {},
   "source": [
    "The plots are the same, meaning we have achieved a legitimate normal sample with accept&reject method."
   ]
  },
  {
   "cell_type": "markdown",
   "id": "5847ac4a-42d4-4c08-80b3-0d4d4f90a7fc",
   "metadata": {},
   "source": [
    "# Q2"
   ]
  },
  {
   "cell_type": "markdown",
   "id": "61e7c356-7e0e-4e58-afad-2a1128f78a49",
   "metadata": {},
   "source": [
    "This is a typical transformation question. So what we need to do is to create a sample from $Cauchy(\\mu=5,\\sigma=3)$ by using the $Normal,\\;InverseGamma$ functions. We know that the relationship is;\n",
    "\n",
    "$$\n",
    "\\begin{split}\n",
    "X&\\sim N(0,\\;1)\\\\\n",
    "Y&\\sim InvGamma(1/2,\\;\\sigma^2/2)\\\\\n",
    "\\Rightarrow Z&=\\mu+X\\sqrt{Z} \\sim Cauchy(\\mu, \\sigma)\n",
    "\\end{split}\n",
    "$$\n",
    "\n",
    "Lets apply this transformation"
   ]
  },
  {
   "cell_type": "code",
   "execution_count": 35,
   "id": "d919a4df-a8a4-4866-8f90-29bfd7a28b93",
   "metadata": {},
   "outputs": [
    {
     "data": {
      "image/png": "[encoded data removed]",
      "text/plain": [
       "plot without title"
      ]
     },
     "metadata": {
      "image/png": {
       "height": 420,
       "width": 420
      }
     },
     "output_type": "display_data"
    }
   ],
   "source": [
    "library(invgamma)\n",
    "n <- 10^4\n",
    "norm_n <- rnorm(n)\n",
    "invgam_n <- rinvgamma(n, 1/2, 9/2)\n",
    "cauchy <- 5 + norm_n * sqrt(invgam_n)\n",
    "cauchy <- cauchy[cauchy < 35 & cauchy > -30]\n",
    "q2.df = data.frame(d=cauchy)\n",
    "ggplot(data=q2.df,aes(x=d)) + geom_histogram(aes(y=..density..),bins = 50, color='Black', fill='', alpha=.6, position=\"identity\") +\n",
    "    geom_density(data = q2.df, position = \"stack\", color='Yellow', fill='Yellow', alpha=.4) + theme_minimal()"
   ]
  },
  {
   "cell_type": "code",
   "execution_count": null,
   "id": "020ed51c-205e-4273-baea-a4c85323d7f8",
   "metadata": {},
   "outputs": [],
   "source": [
    "ggplot(df, aes(x = x)) + \n",
    "  geom_histogram(aes(y = ..density..),\n",
    "                 colour = 1, fill = \"white\") +\n",
    "  geom_density()"
   ]
  },
  {
   "cell_type": "markdown",
   "id": "99ccdb78-52c8-460b-b81a-b85c4fa370a1",
   "metadata": {
    "tags": []
   },
   "source": [
    "# Q3"
   ]
  },
  {
   "cell_type": "markdown",
   "id": "e7fd212f-75eb-425c-b72d-23c69c110a05",
   "metadata": {},
   "source": [
    "In order to do this question we need to find the inverse of cdf of our pdf."
   ]
  },
  {
   "cell_type": "markdown",
   "id": "a0b85456-f9ce-49ed-8280-cfa8aec7bc2e",
   "metadata": {},
   "source": [
    "$$\n",
    "f(x)=\\left\\{\n",
    "\\begin{array}{ll}\n",
    "    \\frac{1}{2}e^{2-x},\\;x\\leq2\\\\\n",
    "    \\frac{1}{2}e^{x-2},\\;x>2\\\\\n",
    "\\end{array}\\right.\n",
    "\\Rightarrow\n",
    "F(x)=\\left\\{\n",
    "\\begin{array}{ll}\n",
    "\\frac{2-e^{2-x}}{2},\\;x\\leq2\\\\\n",
    "\\frac{1}{2}e^{x-2},\\;x>2\\\\\n",
    "\\end{array}\\\\\\\\\n",
    "\\right.\n",
    "$$"
   ]
  },
  {
   "cell_type": "markdown",
   "id": "7c5dc341-0713-47a4-9207-e824ebede933",
   "metadata": {},
   "source": [
    "After finding the cdf we can calculate the inverse by hand\n",
    "\n"
   ]
  },
  {
   "cell_type": "markdown",
   "id": "aedfa330-6b32-4420-8e47-c3cf1d61d789",
   "metadata": {},
   "source": [
    "$$\n",
    "\\\\\n",
    "Inverse\\Rightarrow F^{-1}(u)=\\left\\{\n",
    "\\begin{array}{ll}\n",
    "2-ln(2u),\\;\\frac{1}{2}\\leq u\\leq2\\\\\n",
    "2+ln(2u),\\;0\\leq u<\\frac{1}{2}\\\\\n",
    "\\end{array}\n",
    "\\right.\\\\\\\\\n",
    "$$"
   ]
  },
  {
   "cell_type": "markdown",
   "id": "88985f3a-ee46-4e50-ac56-b410a539343b",
   "metadata": {},
   "source": [
    "Now that we have the inverse of the given function we can write the code."
   ]
  },
  {
   "cell_type": "code",
   "execution_count": 9,
   "id": "0d730197-32be-438b-a694-02bf81b2af0b",
   "metadata": {},
   "outputs": [
    {
     "data": {
      "image/png": "[encoded data removed]",
      "text/plain": [
       "Plot with title \"Histogram of sample\""
      ]
     },
     "metadata": {
      "image/png": {
       "height": 420,
       "width": 420
      }
     },
     "output_type": "display_data"
    }
   ],
   "source": [
    "n <- 10^4\n",
    "sample <- runif(n) #u values\n",
    "sample <- ifelse(sample >= 1/2, 2-log(2*sample), log(2*sample)+2) #the formulas\n",
    "hist(sample, freq=0)"
   ]
  },
  {
   "cell_type": "markdown",
   "id": "462bea58-2df0-4fb2-856c-b1c6a0b2c295",
   "metadata": {},
   "source": [
    "## The statistics:"
   ]
  },
  {
   "cell_type": "code",
   "execution_count": 10,
   "id": "c64c40d1-c79c-4498-acea-dd4add2effe2",
   "metadata": {},
   "outputs": [
    {
     "data": {
      "text/html": [
       "-6.96240369352437"
      ],
      "text/latex": [
       "-6.96240369352437"
      ],
      "text/markdown": [
       "-6.96240369352437"
      ],
      "text/plain": [
       "[1] -6.962404"
      ]
     },
     "metadata": {},
     "output_type": "display_data"
    },
    {
     "data": {
      "text/html": [
       "1.30714401732912"
      ],
      "text/latex": [
       "1.30714401732912"
      ],
      "text/markdown": [
       "1.30714401732912"
      ],
      "text/plain": [
       "[1] 1.307144"
      ]
     },
     "metadata": {},
     "output_type": "display_data"
    },
    {
     "data": {
      "text/html": [
       "1.51783650665838"
      ],
      "text/latex": [
       "1.51783650665838"
      ],
      "text/markdown": [
       "1.51783650665838"
      ],
      "text/plain": [
       "[1] 1.517837"
      ]
     },
     "metadata": {},
     "output_type": "display_data"
    },
    {
     "data": {
      "text/html": [
       "1.99994041639756"
      ],
      "text/latex": [
       "1.99994041639756"
      ],
      "text/markdown": [
       "1.99994041639756"
      ],
      "text/plain": [
       "[1] 1.99994"
      ]
     },
     "metadata": {},
     "output_type": "display_data"
    }
   ],
   "source": [
    "min(sample)\n",
    "mean(sample)\n",
    "median(sample)\n",
    "max(sample)"
   ]
  },
  {
   "cell_type": "markdown",
   "id": "8f69b2fc-b79a-4dbd-95e3-abc984964c62",
   "metadata": {},
   "source": [
    "# Q4"
   ]
  },
  {
   "cell_type": "markdown",
   "id": "7169b415-580e-4926-9543-16bc5efd5451",
   "metadata": {},
   "source": [
    "For this question we first need to find the $M$ constant as in $\\frac{f(x)}{M.g(x)}$ and that can be achieved by equalizing the derivative of $\\frac{f(x)}{g(x)}$ to 0.\n",
    "\n",
    "$$\n",
    "\\begin{split}\n",
    "\\frac{f(x)}{g(x)}&=\\frac{2c}{\\pi}(1-x^2)^{1/2}\\\\\n",
    "derivative&\\Rightarrow\\frac{2c}{\\pi}.\\frac{1}{2}(1-x^2)^{1/2}.-2x=0\\\\\\\\\n",
    "&\\Rightarrow\\frac{-2cx}{\\pi}.\\frac{1}{(1-x)(1+x)}=0\\\\\n",
    "x&=0\n",
    "\\end{split}\n",
    "$$\n",
    "\n",
    "The maximum point is at $x = 0$, so our M becomes $M=\\frac{f(0)}{g(0)}=\\frac{2c}{\\pi}$ \n",
    "It seems that our $M$ contains the $c$ parameter from Uniform function. But we know for a fact that our f(x) is of elliptical shape thus it ends at a x value which is $x=1$. This means that we can take c as 1. In the end our $M.g(x)=2/\\pi$"
   ]
  },
  {
   "cell_type": "code",
   "execution_count": 23,
   "id": "da22e68f-b851-4440-a7f2-f721a9bbbeea",
   "metadata": {},
   "outputs": [
    {
     "data": {
      "image/png": "[encoded data removed]",
      "text/plain": [
       "Plot with title \"Histogram of c\""
      ]
     },
     "metadata": {
      "image/png": {
       "height": 420,
       "width": 420
      }
     },
     "output_type": "display_data"
    }
   ],
   "source": [
    "n <- 10^4\n",
    "\n",
    "f <- function(x){\n",
    "    2/pi * sqrt(1-x^2)\n",
    "}\n",
    "\n",
    "c <- c()\n",
    "for(i in 1:n){\n",
    "    repeat{\n",
    "        u <- runif(1)\n",
    "        y <- runif(1, -1, 1)\n",
    "        if(u <= (f(y)*pi)/2) break\n",
    "    }\n",
    "    \n",
    "    c[i] <- y\n",
    "}\n",
    "\n",
    "a <- seq(-1,1,0.001)\n",
    "hist(c, freq=0)\n",
    "lines(a, f(a), col='Red')"
   ]
  },
  {
   "cell_type": "markdown",
   "id": "de21c400-e093-4dc0-a667-481d37a68eaa",
   "metadata": {},
   "source": [
    "As it can be seen, the density line of the pdf is a perfect match to our sample. Our job has been done."
   ]
  },
  {
   "cell_type": "markdown",
   "id": "bb05a9c9-603e-4486-969f-3570289fd15d",
   "metadata": {},
   "source": [
    "# Q5"
   ]
  },
  {
   "cell_type": "markdown",
   "id": "cba6849b-5332-430b-9f9d-e543fc6280c2",
   "metadata": {},
   "source": [
    "## Part A"
   ]
  },
  {
   "cell_type": "markdown",
   "id": "a0b5e0f1-0d27-4696-af8f-e58c07c4c4ec",
   "metadata": {},
   "source": [
    "For this question we will need the cdf of $Geometric$ distribution and that can be derived or found in the internet to be $F(x;p)=1-(1-p)^{x+1}=1-q^{x+1}$.\n",
    "The inverse can be found by following steps;"
   ]
  },
  {
   "cell_type": "markdown",
   "id": "6ad89e6e-7932-4df1-a307-45752140436a",
   "metadata": {},
   "source": [
    "$$\n",
    "\\begin{split}\n",
    "F(x)&=1-q^{x+1}\\\\\n",
    "\\Rightarrow q^{x+1}&=1-F(x)\\\\\n",
    "\\Rightarrow(x+1)ln(q)&=ln(1-F(x))\\\\\n",
    "\\Rightarrow x&=\\frac{ln(1-F(x))}{ln(q)}-1\n",
    "\\end{split}\n",
    "$$"
   ]
  },
  {
   "cell_type": "markdown",
   "id": "45ae3421-3374-41d5-a579-f4a7b5f77642",
   "metadata": {},
   "source": [
    "And by the property $F(x)\\sim U(0,1)$"
   ]
  },
  {
   "cell_type": "markdown",
   "id": "916ac7e2-f144-4f3a-bb6a-02fe1f3ff0b3",
   "metadata": {},
   "source": [
    "$$\n",
    "x=\\frac{ln(F(x))}{ln(q)}-1\n",
    "$$"
   ]
  },
  {
   "cell_type": "markdown",
   "id": "d2864ea7-d9a0-4076-8f18-be3552f51298",
   "metadata": {},
   "source": [
    "But because that the fraction will yield continuous results, we need to add the ceiling function so that the results will always be discrete and bigger than 0 when we extract 1. But doing ceiling(a) - 1 and just saying floor(a) is the same thus we will use that."
   ]
  },
  {
   "cell_type": "code",
   "execution_count": 12,
   "id": "9ea2272a-12f9-4916-bb51-1ec5e6e212f9",
   "metadata": {},
   "outputs": [
    {
     "data": {
      "image/png": "[encoded data removed]",
      "text/plain": [
       "Plot with title \"Histogram of sample\""
      ]
     },
     "metadata": {
      "image/png": {
       "height": 420,
       "width": 420
      }
     },
     "output_type": "display_data"
    }
   ],
   "source": [
    "n <- 1000\n",
    "q <- 1-4/80\n",
    "u <- runif(1000)\n",
    "sample <- floor(log(u)/log(q))\n",
    "a <- seq(0,150,1)\n",
    "hist(sample, freq=0, breaks=14)\n",
    "lines(a, dgeom(a, 4/80), col='Red')"
   ]
  },
  {
   "cell_type": "code",
   "execution_count": 13,
   "id": "61bb9896-0370-4414-a958-57240da863c8",
   "metadata": {},
   "outputs": [
    {
     "data": {
      "text/html": [
       "19.501"
      ],
      "text/latex": [
       "19.501"
      ],
      "text/markdown": [
       "19.501"
      ],
      "text/plain": [
       "[1] 19.501"
      ]
     },
     "metadata": {},
     "output_type": "display_data"
    },
    {
     "data": {
      "text/html": [
       "367.243242242242"
      ],
      "text/latex": [
       "367.243242242242"
      ],
      "text/markdown": [
       "367.243242242242"
      ],
      "text/plain": [
       "[1] 367.2432"
      ]
     },
     "metadata": {},
     "output_type": "display_data"
    }
   ],
   "source": [
    "mean(sample)\n",
    "var(sample)"
   ]
  },
  {
   "cell_type": "code",
   "execution_count": 14,
   "id": "f7c4dd27-b588-4350-a4db-71467957c483",
   "metadata": {},
   "outputs": [
    {
     "data": {
      "text/html": [
       "19.357"
      ],
      "text/latex": [
       "19.357"
      ],
      "text/markdown": [
       "19.357"
      ],
      "text/plain": [
       "[1] 19.357"
      ]
     },
     "metadata": {},
     "output_type": "display_data"
    },
    {
     "data": {
      "text/html": [
       "356.319743743744"
      ],
      "text/latex": [
       "356.319743743744"
      ],
      "text/markdown": [
       "356.319743743744"
      ],
      "text/plain": [
       "[1] 356.3197"
      ]
     },
     "metadata": {},
     "output_type": "display_data"
    }
   ],
   "source": [
    "mean(rgeom(1000, 4/80))\n",
    "var(rgeom(1000, 4/80))"
   ]
  },
  {
   "cell_type": "markdown",
   "id": "6c4f200c-1125-4db9-916f-741262fb60b3",
   "metadata": {},
   "source": [
    "## Part B"
   ]
  },
  {
   "cell_type": "code",
   "execution_count": 15,
   "id": "aa0ac7e8-a933-4325-a552-d48375936fe6",
   "metadata": {},
   "outputs": [
    {
     "data": {
      "text/html": [
       "0.743"
      ],
      "text/latex": [
       "0.743"
      ],
      "text/markdown": [
       "0.743"
      ],
      "text/plain": [
       "[1] 0.743"
      ]
     },
     "metadata": {},
     "output_type": "display_data"
    }
   ],
   "source": [
    "# Generated by hand\n",
    "length(sample[sample>=6])/length(sample) #prob of being bigger/equal to 6"
   ]
  },
  {
   "cell_type": "code",
   "execution_count": 16,
   "id": "fd8087ca-a69c-4a36-a041-f5880519d1ec",
   "metadata": {},
   "outputs": [
    {
     "data": {
      "text/html": [
       "0.7322"
      ],
      "text/latex": [
       "0.7322"
      ],
      "text/markdown": [
       "0.7322"
      ],
      "text/plain": [
       "[1] 0.7322"
      ]
     },
     "metadata": {},
     "output_type": "display_data"
    }
   ],
   "source": [
    "# Generated by computer\n",
    "a <- rgeom(5000, 4/80)\n",
    "length(a[a>=6])/length(a) #prob of being bigger/equal to 6"
   ]
  },
  {
   "cell_type": "markdown",
   "id": "bfbbe359-0c50-4e99-8ba0-74a789509599",
   "metadata": {},
   "source": [
    "These results are very similar. "
   ]
  },
  {
   "cell_type": "markdown",
   "id": "99726cca-bcce-413f-9c76-e021b6c6650c",
   "metadata": {
    "tags": []
   },
   "source": [
    "# Q6"
   ]
  },
  {
   "cell_type": "markdown",
   "id": "c93010aa-1d5d-40cb-8ba0-a4762cbfcef2",
   "metadata": {},
   "source": [
    "## Part A"
   ]
  },
  {
   "cell_type": "code",
   "execution_count": 17,
   "id": "ff311781-b212-45d2-8c6f-fb4ef8780262",
   "metadata": {},
   "outputs": [],
   "source": [
    "n <- 10^5\n",
    "a <- 5\n",
    "b <- 11\n",
    "sample <- matrix(data=NA, nrow=n, ncol=a+b-1)\n",
    "for(i in 1:n){\n",
    "    for(k in 1:(a+b-1)){\n",
    "        sample[i,k] <- runif(1)\n",
    "    }\n",
    "}"
   ]
  },
  {
   "cell_type": "code",
   "execution_count": 18,
   "id": "567765b3-5aae-4fca-9a8a-4e489491919b",
   "metadata": {},
   "outputs": [],
   "source": [
    "k <- t(apply(sample, 1, sort))[,5] #sort all rows, take the fifth order aka column."
   ]
  },
  {
   "cell_type": "markdown",
   "id": "61b5b375-ee27-4285-b498-6d31b651d0ae",
   "metadata": {},
   "source": [
    "## Part B"
   ]
  },
  {
   "cell_type": "code",
   "execution_count": 19,
   "id": "4cdd11c4-0c60-47d4-b78d-4ef9476163f0",
   "metadata": {},
   "outputs": [
    {
     "data": {
      "text/html": [
       "0.312328985996104"
      ],
      "text/latex": [
       "0.312328985996104"
      ],
      "text/markdown": [
       "0.312328985996104"
      ],
      "text/plain": [
       "[1] 0.312329"
      ]
     },
     "metadata": {},
     "output_type": "display_data"
    },
    {
     "data": {
      "text/html": [
       "0.0125870285784435"
      ],
      "text/latex": [
       "0.0125870285784435"
      ],
      "text/markdown": [
       "0.0125870285784435"
      ],
      "text/plain": [
       "[1] 0.01258703"
      ]
     },
     "metadata": {},
     "output_type": "display_data"
    }
   ],
   "source": [
    "mean(k)\n",
    "var(k)"
   ]
  },
  {
   "cell_type": "code",
   "execution_count": 20,
   "id": "5e1736db-eed3-446f-bce8-d1d47098384f",
   "metadata": {},
   "outputs": [
    {
     "data": {
      "text/html": [
       "0.3125"
      ],
      "text/latex": [
       "0.3125"
      ],
      "text/markdown": [
       "0.3125"
      ],
      "text/plain": [
       "[1] 0.3125"
      ]
     },
     "metadata": {},
     "output_type": "display_data"
    },
    {
     "data": {
      "text/html": [
       "0.0425696594427245"
      ],
      "text/latex": [
       "0.0425696594427245"
      ],
      "text/markdown": [
       "0.0425696594427245"
      ],
      "text/plain": [
       "[1] 0.04256966"
      ]
     },
     "metadata": {},
     "output_type": "display_data"
    }
   ],
   "source": [
    "a/(a+b)\n",
    "(a*b/((a+b)^2*a+b+1))"
   ]
  },
  {
   "cell_type": "code",
   "execution_count": 21,
   "id": "46b77b65-4d7a-424e-a2a4-52ba4811fd7d",
   "metadata": {},
   "outputs": [
    {
     "data": {
      "image/png": "[encoded data removed]",
      "text/plain": [
       "Plot with title \"Histogram of k\""
      ]
     },
     "metadata": {
      "image/png": {
       "height": 420,
       "width": 420
      }
     },
     "output_type": "display_data"
    }
   ],
   "source": [
    "a <- seq(0,1,0.001)\n",
    "hist(k, breaks=12, freq=0)\n",
    "lines(a, dbeta(a, 5, 11), col='Red')"
   ]
  },
  {
   "cell_type": "markdown",
   "id": "3aad792b-4a75-477a-8055-6acd4af80a15",
   "metadata": {},
   "source": [
    "It seems that we have achieved the desired result."
   ]
  }
 ],
 "metadata": {
  "authors": [
   {
    "name": "Mert Göksel"
   },
   {
    "name": "Bilge Özkır"
   }
  ],
  "kernelspec": {
   "display_name": "R",
   "language": "R",
   "name": "ir"
  },
  "language_info": {
   "codemirror_mode": "r",
   "file_extension": ".r",
   "mimetype": "text/x-r-source",
   "name": "R",
   "pygments_lexer": "r",
   "version": "4.1.3"
  }
 },
 "nbformat": 4,
 "nbformat_minor": 5
}
