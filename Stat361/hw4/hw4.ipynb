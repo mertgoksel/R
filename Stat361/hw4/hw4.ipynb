{
  "cells": [
    {
      "cell_type": "raw",
      "metadata": {},
      "source": [
        "---\n",
        "title: Stat361-HW4\n",
        "author:\n",
        "  - Mert Göksel\n",
        "  - Bilge Özkır\n",
        "format: pdf\n",
        "---"
      ],
      "id": "228003e7"
    },
    {
      "cell_type": "code",
      "metadata": {},
      "source": [
        "setwd(\"./R/Stat361/hw4/\")\n",
        "library(tidyverse)\n",
        "library(e1071)\n",
        "library(caret)"
      ],
      "id": "cfe88a06",
      "execution_count": null,
      "outputs": []
    },
    {
      "cell_type": "markdown",
      "metadata": {},
      "source": [
        "# Q1\n"
      ],
      "id": "7c4025a3"
    },
    {
      "cell_type": "code",
      "metadata": {},
      "source": [
        "df <- read.csv(\"./UKDriverDeaths.csv\")\n",
        "df$X <- NULL\n",
        "df <- df$x"
      ],
      "id": "e37cc7ec",
      "execution_count": null,
      "outputs": []
    },
    {
      "cell_type": "markdown",
      "metadata": {},
      "source": [
        "## Part A\n"
      ],
      "id": "d490617c"
    },
    {
      "cell_type": "code",
      "metadata": {},
      "source": [
        "n <- length(df)\n",
        "sample_mean <- mean(df)\n",
        "sample_sd <- sd(df)\n",
        "\n",
        "M <- 1000\n",
        "res_mean <- numeric(M)\n",
        "res_sd <- numeric(M)\n",
        "\n",
        "for(i in 1:M){\n",
        "  indexes <- sample(1:n, size=n, replace = T)\n",
        "  x <- df[indexes]\n",
        "  res_mean[i] <- mean(x)\n",
        "  res_sd[i] <- sd(x)\n",
        "}\n",
        "\n",
        "bias_mean <- sample_mean - mean(res_mean)\n",
        "bias_sd <- sample_sd - mean(res_sd)\n",
        "\n",
        "\n",
        "# Standard error\n",
        "mean(res_sd)\n",
        "\n",
        "#bias\n",
        "bias_mean \n",
        "\n",
        "bias_sd"
      ],
      "id": "24373eef",
      "execution_count": null,
      "outputs": []
    },
    {
      "cell_type": "markdown",
      "metadata": {},
      "source": [
        "our bias is ~.5 with sd ~1.5\n",
        "\n",
        "## Part B\n"
      ],
      "id": "c6adf642"
    },
    {
      "cell_type": "code",
      "metadata": {},
      "source": [
        "kurtosis_fnc <- function(x,i){\n",
        "  n <- length(x)\n",
        "  sample_krts <- mean((x[i] - mean(x[i]))^4) / var(x[i])^2\n",
        "  return(sample_krts)\n",
        "}\n",
        "\n",
        "\n",
        "kurtosis <- c()\n",
        "sample_kurt <- kurtosis_fnc(df)\n",
        "\n",
        "for(i in 1:n){\n",
        "  kurtosis[i] <- kurtosis_fnc(df[-i])\n",
        "}\n",
        "\n",
        "kurtosis %>% data.frame(x=.) %>% ggplot(aes(x=x)) + xlim(c(2.9, 3.2)) +\n",
        "  geom_histogram(aes(y = ..density..), color='Black', \n",
        "                 fill='Red', alpha=.7, bins = 10)\n",
        "est_kurt <- mean(kurtosis)\n",
        "se_kurt <- sqrt((n-1) * mean((sample_kurt - mean(kurtosis))^2))\n",
        "bias_kurt <- (n-1) * (est_kurt - sample_kurt)\n",
        "\n",
        "\n",
        "result <- c(sample_kurt, est_kurt, se_kurt, bias_kurt)\n",
        "names(result) <- c(\"sample\", \"estimated\", \"std.error\",\"bias\")\n",
        "result"
      ],
      "id": "d243df79",
      "execution_count": null,
      "outputs": []
    },
    {
      "cell_type": "markdown",
      "metadata": {},
      "source": [
        "## Part C\n"
      ],
      "id": "5546cc04"
    },
    {
      "cell_type": "code",
      "metadata": {},
      "source": [
        "sample_skew <- skewness(df)\n",
        "res_skew <- numeric(length(df))\n",
        "\n",
        "for(i in 1:length(df)){\n",
        "  x <- df[-i]\n",
        "  res_skew[i] <- skewness(x)\n",
        "}\n",
        "\n",
        "hist(res_skew)\n",
        "est_skew <- mean(res_skew)\n",
        "bias_skew <- sample_skew - mean(res_skew)\n",
        "se_skew <- sd(res_skew)\n",
        "\n",
        "est_skew\n",
        "bias_skew\n",
        "se_skew"
      ],
      "id": "87c082b3",
      "execution_count": null,
      "outputs": []
    },
    {
      "cell_type": "markdown",
      "metadata": {},
      "source": [
        "## Part D\n"
      ],
      "id": "783340ca"
    },
    {
      "cell_type": "code",
      "metadata": {},
      "source": [
        "upper <- est_skew + qnorm(0.95) * se_skew\n",
        "lower <- est_skew - qnorm(0.95) * se_skew\n",
        "\n",
        "upper\n",
        "lower"
      ],
      "id": "4cdca379",
      "execution_count": null,
      "outputs": []
    },
    {
      "cell_type": "markdown",
      "metadata": {},
      "source": [
        "# Q2\n"
      ],
      "id": "23bc3321"
    },
    {
      "cell_type": "code",
      "metadata": {},
      "source": [
        "titanic <- read.csv(\"./titanic.csv\")\n",
        "head(titanic)\n",
        "titanic$X <- NULL"
      ],
      "id": "eb5d48ae",
      "execution_count": null,
      "outputs": []
    },
    {
      "cell_type": "markdown",
      "metadata": {},
      "source": [
        "## Part A\n"
      ],
      "id": "7e885260"
    },
    {
      "cell_type": "code",
      "metadata": {},
      "source": [
        "model <- glm(Survived~., data=titanic)\n",
        "model.coef <- model$coefficients\n",
        "jack.coef <- matrix(0, ncol = 3, nrow=nrow(titanic))\n",
        "\n",
        "for(i in 1:nrow(titanic)){\n",
        "  x <- titanic[-i,]\n",
        "  m <- glm(Survived~., data=x)\n",
        "  jack.coef[i,] <- m$coefficients \n",
        "}\n",
        "\n",
        "rbind(model.coef, jack.coef= apply(jack.coef, 2, mean))"
      ],
      "id": "aa14c31e",
      "execution_count": null,
      "outputs": []
    },
    {
      "cell_type": "markdown",
      "metadata": {},
      "source": [
        "## Part B\n"
      ],
      "id": "d6ee741d"
    },
    {
      "cell_type": "code",
      "metadata": {},
      "source": [
        "indexes <- sample(1:nrow(titanic), size=floor(nrow(titanic)*8/10), replace = F)\n",
        "t.train <- titanic[indexes,]\n",
        "t.test <- titanic[-indexes,]\n",
        "\n",
        "model1 <- formula(Survived~.)\n",
        "model2 <- formula(Survived~Sex*Age+Sex+Age)\n",
        "model3 <- formula(Survived~Age**2+Sex+Age)\n",
        "model4 <- formula(Survived~Age**2 + Sex + Age + Age**3)\n",
        "\n",
        "res1 <- matrix(0, ncol=11, nrow=nrow(t.train))\n",
        "res2 <- matrix(0, ncol=11, nrow=nrow(t.train))\n",
        "res3 <- matrix(0, ncol=11, nrow=nrow(t.train))\n",
        "res4 <- matrix(0, ncol=11, nrow=nrow(t.train))\n",
        "\n",
        "real.res <- factor(t.test$Survived)\n",
        "\n",
        "for(i in 1:nrow(t.train)){\n",
        "  x <- t.train[-i,]\n",
        "  \n",
        "  m1 <- glm(model1, data=x)\n",
        "  m2 <- glm(model2, data=x)\n",
        "  m3 <- glm(model3, data=x)\n",
        "  m4 <- glm(model4, data=x)\n",
        "  \n",
        "  m1.res <- factor(ifelse(predict(m1, t.test, type='response')>=.5, 1, 0))\n",
        "  m2.res <- factor(ifelse(predict(m2, t.test, type='response')>=.5, 1, 0))\n",
        "  m3.res <- factor(ifelse(predict(m3, t.test, type='response')>=.5, 1, 0))\n",
        "  m4.res <- factor(ifelse(predict(m4, t.test, type='response')>=.5, 1, 0))\n",
        "  \n",
        "  res1[i,] <- confusionMatrix(m1.res, real.res)$byClass\n",
        "  res2[i,] <- confusionMatrix(m2.res, real.res)$byClass\n",
        "  res3[i,] <- confusionMatrix(m3.res, real.res)$byClass\n",
        "  res4[i,] <- confusionMatrix(m4.res, real.res)$byClass\n",
        "}\n",
        "\n",
        "\n",
        "nam <- names(confusionMatrix(factor(sample(titanic$Survived)), factor(titanic$Survived))$byClass)\n",
        "colnames(res1) <- nam\n",
        "colnames(res2) <- nam\n",
        "colnames(res3) <- nam\n",
        "colnames(res4) <- nam\n",
        "\n",
        "data.frame(model1 = apply(res1, 2, mean),\n",
        "           model2 = apply(res2, 2, mean),\n",
        "           model3 = apply(res3, 2, mean),\n",
        "           model4 = apply(res4, 2, mean))"
      ],
      "id": "79401e28",
      "execution_count": null,
      "outputs": []
    },
    {
      "cell_type": "markdown",
      "metadata": {},
      "source": [
        "It seems that the added terms do not affect the model in the slightest. \n",
        "This was expected due to multicolinearity.\n",
        "\n",
        "# Q3\n"
      ],
      "id": "609f1d39"
    },
    {
      "cell_type": "code",
      "metadata": {},
      "source": [
        "attach(attitude)\n",
        "library(boot)"
      ],
      "id": "2444017f",
      "execution_count": null,
      "outputs": []
    },
    {
      "cell_type": "markdown",
      "metadata": {},
      "source": [
        "## Part A\n"
      ],
      "id": "890f73ba"
    },
    {
      "cell_type": "code",
      "metadata": {},
      "source": [
        "stat.f <- function(f, x, i) {\n",
        "  return(coef(lm(f, data=x[i,])))\n",
        "}\n",
        "\n",
        "boot <- boot(data = attitude, statistic = stat.f, R = 1000, f = rating~complaints+privileges+learning)\n",
        "lm(rating~complaints+learning+privileges, data=attitude)$coefficients\n",
        "boot"
      ],
      "id": "d26b982b",
      "execution_count": null,
      "outputs": []
    },
    {
      "cell_type": "markdown",
      "metadata": {},
      "source": [
        "They are the same...\n",
        "\n",
        "## Part B\n"
      ],
      "id": "6508a1fc"
    },
    {
      "cell_type": "code",
      "metadata": {},
      "source": [
        "hist(boot$t[,1], col=\"Yellow\", freq=F)\n",
        "lines(density(boot$t[,1]))\n",
        "\n",
        "hist(boot$t[,2], col=\"Yellow\", freq=F)\n",
        "lines(density(boot$t[,2]))\n",
        "\n",
        "hist(boot$t[,3], col=\"Yellow\", freq=F)\n",
        "lines(density(boot$t[,3]))\n",
        "\n",
        "hist(boot$t[,4], col=\"Yellow\", freq=F)\n",
        "lines(density(boot$t[,4]))"
      ],
      "id": "a007d989",
      "execution_count": null,
      "outputs": []
    }
  ],
  "metadata": {
    "kernelspec": {
      "name": "ir",
      "language": "R",
      "display_name": "R"
    }
  },
  "nbformat": 4,
  "nbformat_minor": 5
}